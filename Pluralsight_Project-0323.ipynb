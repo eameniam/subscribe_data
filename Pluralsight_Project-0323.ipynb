{
 "cells": [
  {
   "cell_type": "markdown",
   "metadata": {
    "colab_type": "text",
    "id": "dFHD55-1-fdZ"
   },
   "source": [
    "# Pluralsight Data Science Project"
   ]
  },
  {
   "cell_type": "markdown",
   "metadata": {
    "colab_type": "text",
    "id": "jBu8XjR2-fdc"
   },
   "source": [
    "The dataset provided by Pluralsight represent existing Pluralsight users's information, with at least one subscription\n",
    "\n",
    "\n",
    "By following the table of contents, I will build out that can be used for different situations. \n",
    "\n",
    "\n",
    "## Table of Contents\n",
    "\n",
    "I. [Load and Clean Dataset](#Load)<br>\n",
    "II. [Exploratory Data Analysis](#Exploratory)<br>\n",
    "III. [Modeling](#Modeling)<br>\n",
    "IV. [Question & Concluding](#conclusions)\n",
    "\n",
    "Let's get started by importing the necessary libraries and reading in the data."
   ]
  },
  {
   "cell_type": "code",
   "execution_count": 0,
   "metadata": {
    "colab": {},
    "colab_type": "code",
    "id": "DBJD_112-fdd"
   },
   "outputs": [],
   "source": [
    "import numpy as np\n",
    "import pandas as pd\n",
    "import matplotlib.pyplot as plt\n",
    "import seaborn as sns\n",
    "%matplotlib inline"
   ]
  },
  {
   "cell_type": "markdown",
   "metadata": {
    "colab_type": "text",
    "id": "1WMMSdz5-fdg"
   },
   "source": [
    "## <a class=\"anchor\" id=\"Load\">Part I :Load and Clean Dataset</a>\n",
    "\n",
    "In this workspace, the dataset file is `Pluralsight.csv`. Load and clean the dataset, checking for invalid or missing data - for example, records with null or missing values. "
   ]
  },
  {
   "cell_type": "code",
   "execution_count": 2,
   "metadata": {
    "colab": {
     "base_uri": "https://localhost:8080/",
     "height": 309
    },
    "colab_type": "code",
    "id": "slk_T-8G-fdi",
    "outputId": "ef8cc556-b0d0-4885-8ee1-bbfe265a752b"
   },
   "outputs": [
    {
     "data": {
      "text/html": [
       "<div>\n",
       "<style scoped>\n",
       "    .dataframe tbody tr th:only-of-type {\n",
       "        vertical-align: middle;\n",
       "    }\n",
       "\n",
       "    .dataframe tbody tr th {\n",
       "        vertical-align: top;\n",
       "    }\n",
       "\n",
       "    .dataframe thead th {\n",
       "        text-align: right;\n",
       "    }\n",
       "</style>\n",
       "<table border=\"1\" class=\"dataframe\">\n",
       "  <thead>\n",
       "    <tr style=\"text-align: right;\">\n",
       "      <th></th>\n",
       "      <th>SubscriberKey</th>\n",
       "      <th>EmailDomain</th>\n",
       "      <th>AccountCreatedDate</th>\n",
       "      <th>ProductType</th>\n",
       "      <th>BilledAmount</th>\n",
       "      <th>StartDate</th>\n",
       "      <th>EndDate</th>\n",
       "      <th>BeginningState</th>\n",
       "      <th>EndingState</th>\n",
       "      <th>TenureMonth</th>\n",
       "      <th>Channel</th>\n",
       "      <th>AutoRenewOn</th>\n",
       "      <th>NActiveMonths</th>\n",
       "      <th>NContinuousActiveMonths</th>\n",
       "      <th>MaxContinuousActiveMonths</th>\n",
       "      <th>CountryCode</th>\n",
       "      <th>Company</th>\n",
       "      <th>StartTrial</th>\n",
       "      <th>NPrevChurns</th>\n",
       "      <th>TurnAutoRenewOff</th>\n",
       "      <th>PercActiveDay</th>\n",
       "      <th>PercOfflineView</th>\n",
       "      <th>DaysSinceLastLogin</th>\n",
       "      <th>ViewMinPerDay</th>\n",
       "      <th>ViewMinPerActiveDay</th>\n",
       "      <th>ClipsPerDay</th>\n",
       "      <th>ClipsPerActiveDay</th>\n",
       "      <th>NCoursesPerDay</th>\n",
       "      <th>CourseCompletionRate</th>\n",
       "      <th>MaxCourseCompletionRate</th>\n",
       "      <th>CoursePillar</th>\n",
       "    </tr>\n",
       "  </thead>\n",
       "  <tbody>\n",
       "    <tr>\n",
       "      <th>0</th>\n",
       "      <td>5</td>\n",
       "      <td>social-media-productions</td>\n",
       "      <td>10/10/13</td>\n",
       "      <td>STD</td>\n",
       "      <td>29.00</td>\n",
       "      <td>4/17/15</td>\n",
       "      <td>5/17/15</td>\n",
       "      <td>Renewal</td>\n",
       "      <td>Renewed</td>\n",
       "      <td>19</td>\n",
       "      <td>Direct</td>\n",
       "      <td>yes</td>\n",
       "      <td>19</td>\n",
       "      <td>19</td>\n",
       "      <td>19</td>\n",
       "      <td>US</td>\n",
       "      <td>1972</td>\n",
       "      <td>0</td>\n",
       "      <td>0</td>\n",
       "      <td>0</td>\n",
       "      <td>0.176471</td>\n",
       "      <td>0.0</td>\n",
       "      <td>13.0</td>\n",
       "      <td>10.737255</td>\n",
       "      <td>60.844444</td>\n",
       "      <td>6.941176</td>\n",
       "      <td>39.333333</td>\n",
       "      <td>0.176471</td>\n",
       "      <td>0.212801</td>\n",
       "      <td>0.419307</td>\n",
       "      <td>Software Development</td>\n",
       "    </tr>\n",
       "    <tr>\n",
       "      <th>1</th>\n",
       "      <td>13</td>\n",
       "      <td>hotmail</td>\n",
       "      <td>4/16/10</td>\n",
       "      <td>PLUS</td>\n",
       "      <td>16.81</td>\n",
       "      <td>6/30/15</td>\n",
       "      <td>8/1/15</td>\n",
       "      <td>Reactivation</td>\n",
       "      <td>Renewed</td>\n",
       "      <td>64</td>\n",
       "      <td>Email</td>\n",
       "      <td>yes</td>\n",
       "      <td>3</td>\n",
       "      <td>8</td>\n",
       "      <td>8</td>\n",
       "      <td>CA</td>\n",
       "      <td>6203892 Canada Inc.</td>\n",
       "      <td>0</td>\n",
       "      <td>2</td>\n",
       "      <td>0</td>\n",
       "      <td>0.473684</td>\n",
       "      <td>0.0</td>\n",
       "      <td>3.0</td>\n",
       "      <td>10.529825</td>\n",
       "      <td>22.229630</td>\n",
       "      <td>3.368421</td>\n",
       "      <td>7.111111</td>\n",
       "      <td>0.157895</td>\n",
       "      <td>0.190862</td>\n",
       "      <td>0.404102</td>\n",
       "      <td>Software Development</td>\n",
       "    </tr>\n",
       "    <tr>\n",
       "      <th>2</th>\n",
       "      <td>28</td>\n",
       "      <td>hotmail</td>\n",
       "      <td>9/6/12</td>\n",
       "      <td>STD</td>\n",
       "      <td>29.00</td>\n",
       "      <td>4/28/15</td>\n",
       "      <td>5/28/15</td>\n",
       "      <td>Renewal</td>\n",
       "      <td>Renewed</td>\n",
       "      <td>33</td>\n",
       "      <td>Direct</td>\n",
       "      <td>yes</td>\n",
       "      <td>25</td>\n",
       "      <td>4</td>\n",
       "      <td>21</td>\n",
       "      <td>FO</td>\n",
       "      <td>NaN</td>\n",
       "      <td>0</td>\n",
       "      <td>1</td>\n",
       "      <td>0</td>\n",
       "      <td>0.000000</td>\n",
       "      <td>0.0</td>\n",
       "      <td>29.0</td>\n",
       "      <td>0.000000</td>\n",
       "      <td>0.000000</td>\n",
       "      <td>0.000000</td>\n",
       "      <td>0.000000</td>\n",
       "      <td>0.000000</td>\n",
       "      <td>0.000000</td>\n",
       "      <td>0.000000</td>\n",
       "      <td>None</td>\n",
       "    </tr>\n",
       "    <tr>\n",
       "      <th>3</th>\n",
       "      <td>51</td>\n",
       "      <td>gmail</td>\n",
       "      <td>12/8/13</td>\n",
       "      <td>STD</td>\n",
       "      <td>29.00</td>\n",
       "      <td>5/11/15</td>\n",
       "      <td>6/11/15</td>\n",
       "      <td>Renewal</td>\n",
       "      <td>Renewed</td>\n",
       "      <td>18</td>\n",
       "      <td>Direct</td>\n",
       "      <td>yes</td>\n",
       "      <td>13</td>\n",
       "      <td>10</td>\n",
       "      <td>10</td>\n",
       "      <td>US</td>\n",
       "      <td>Oracle</td>\n",
       "      <td>0</td>\n",
       "      <td>1</td>\n",
       "      <td>0</td>\n",
       "      <td>0.055556</td>\n",
       "      <td>0.0</td>\n",
       "      <td>11.0</td>\n",
       "      <td>1.068519</td>\n",
       "      <td>19.233333</td>\n",
       "      <td>0.277778</td>\n",
       "      <td>5.000000</td>\n",
       "      <td>0.055556</td>\n",
       "      <td>0.116957</td>\n",
       "      <td>0.116957</td>\n",
       "      <td>Software Development</td>\n",
       "    </tr>\n",
       "    <tr>\n",
       "      <th>4</th>\n",
       "      <td>56</td>\n",
       "      <td>live</td>\n",
       "      <td>7/11/13</td>\n",
       "      <td>PLUS</td>\n",
       "      <td>49.00</td>\n",
       "      <td>8/23/15</td>\n",
       "      <td>9/23/15</td>\n",
       "      <td>Renewal</td>\n",
       "      <td>Renewed</td>\n",
       "      <td>26</td>\n",
       "      <td>Email</td>\n",
       "      <td>yes</td>\n",
       "      <td>26</td>\n",
       "      <td>26</td>\n",
       "      <td>26</td>\n",
       "      <td>US</td>\n",
       "      <td>NaN</td>\n",
       "      <td>0</td>\n",
       "      <td>0</td>\n",
       "      <td>0</td>\n",
       "      <td>0.055556</td>\n",
       "      <td>0.0</td>\n",
       "      <td>2.0</td>\n",
       "      <td>1.725926</td>\n",
       "      <td>31.066667</td>\n",
       "      <td>0.333333</td>\n",
       "      <td>6.000000</td>\n",
       "      <td>0.055556</td>\n",
       "      <td>0.139678</td>\n",
       "      <td>0.139678</td>\n",
       "      <td>IT Pro</td>\n",
       "    </tr>\n",
       "  </tbody>\n",
       "</table>\n",
       "</div>"
      ],
      "text/plain": [
       "   SubscriberKey  ...          CoursePillar\n",
       "0              5  ...  Software Development\n",
       "1             13  ...  Software Development\n",
       "2             28  ...                  None\n",
       "3             51  ...  Software Development\n",
       "4             56  ...                IT Pro\n",
       "\n",
       "[5 rows x 31 columns]"
      ]
     },
     "execution_count": 2,
     "metadata": {
      "tags": []
     },
     "output_type": "execute_result"
    }
   ],
   "source": [
    "# Load and check basic information of dataset\n",
    "df = pd.read_csv('Pluralsight.csv')\n",
    "df.head()"
   ]
  },
  {
   "cell_type": "code",
   "execution_count": 3,
   "metadata": {
    "colab": {
     "base_uri": "https://localhost:8080/",
     "height": 187
    },
    "colab_type": "code",
    "id": "wvSUx5XP-fdl",
    "outputId": "b9f5787e-72c0-4edb-e8eb-b4f574f015ad"
   },
   "outputs": [
    {
     "data": {
      "text/plain": [
       "Index(['SubscriberKey', 'EmailDomain', 'AccountCreatedDate', 'ProductType',\n",
       "       'BilledAmount', 'StartDate', 'EndDate', 'BeginningState', 'EndingState',\n",
       "       'TenureMonth', 'Channel', 'AutoRenewOn', 'NActiveMonths',\n",
       "       'NContinuousActiveMonths', 'MaxContinuousActiveMonths', 'CountryCode',\n",
       "       'Company', 'StartTrial', 'NPrevChurns', 'TurnAutoRenewOff',\n",
       "       'PercActiveDay', 'PercOfflineView', 'DaysSinceLastLogin',\n",
       "       'ViewMinPerDay', 'ViewMinPerActiveDay', 'ClipsPerDay',\n",
       "       'ClipsPerActiveDay', 'NCoursesPerDay', 'CourseCompletionRate',\n",
       "       'MaxCourseCompletionRate', 'CoursePillar'],\n",
       "      dtype='object')"
      ]
     },
     "execution_count": 3,
     "metadata": {
      "tags": []
     },
     "output_type": "execute_result"
    }
   ],
   "source": [
    "# column informations\n",
    "df.columns"
   ]
  },
  {
   "cell_type": "markdown",
   "metadata": {
    "colab_type": "text",
    "id": "cvB6mLN3-fdo"
   },
   "source": [
    "### Statistics \n",
    "Showing the statistics of the whole dataset"
   ]
  },
  {
   "cell_type": "code",
   "execution_count": 4,
   "metadata": {
    "colab": {
     "base_uri": "https://localhost:8080/",
     "height": 561
    },
    "colab_type": "code",
    "id": "hyRWLh6y-fdp",
    "outputId": "dc879589-20b8-4dca-9a52-029f2352f092"
   },
   "outputs": [
    {
     "data": {
      "text/plain": [
       "SubscriberKey                43142\n",
       "EmailDomain                  43142\n",
       "AccountCreatedDate           43142\n",
       "ProductType                  43142\n",
       "BilledAmount                 43142\n",
       "StartDate                    43142\n",
       "EndDate                      43142\n",
       "BeginningState               43142\n",
       "EndingState                  43142\n",
       "TenureMonth                  43142\n",
       "Channel                      34612\n",
       "AutoRenewOn                  42959\n",
       "NActiveMonths                43142\n",
       "NContinuousActiveMonths      43142\n",
       "MaxContinuousActiveMonths    43142\n",
       "CountryCode                  43113\n",
       "Company                      19313\n",
       "StartTrial                   43142\n",
       "NPrevChurns                  43142\n",
       "TurnAutoRenewOff             43142\n",
       "PercActiveDay                43142\n",
       "PercOfflineView              43142\n",
       "DaysSinceLastLogin           42509\n",
       "ViewMinPerDay                43142\n",
       "ViewMinPerActiveDay          43142\n",
       "ClipsPerDay                  43142\n",
       "ClipsPerActiveDay            43142\n",
       "NCoursesPerDay               43142\n",
       "CourseCompletionRate         43142\n",
       "MaxCourseCompletionRate      43142\n",
       "CoursePillar                 43142\n",
       "dtype: int64"
      ]
     },
     "execution_count": 4,
     "metadata": {
      "tags": []
     },
     "output_type": "execute_result"
    }
   ],
   "source": [
    "# Total rows\n",
    "df.count()"
   ]
  },
  {
   "cell_type": "code",
   "execution_count": 5,
   "metadata": {
    "colab": {
     "base_uri": "https://localhost:8080/",
     "height": 34
    },
    "colab_type": "code",
    "id": "km76OFod-fdr",
    "outputId": "89da6c94-937a-4cf7-f5b2-e9baadc0a52e"
   },
   "outputs": [
    {
     "name": "stdout",
     "output_type": "stream",
     "text": [
      "41949\n"
     ]
    }
   ],
   "source": [
    "# Number of unique user\n",
    "unique_user = df.SubscriberKey.nunique()\n",
    "print (unique_user)"
   ]
  },
  {
   "cell_type": "code",
   "execution_count": 6,
   "metadata": {
    "colab": {
     "base_uri": "https://localhost:8080/",
     "height": 1000
    },
    "colab_type": "code",
    "id": "IlfFq7rw-fdv",
    "outputId": "18491024-da31-4942-ec71-3bc2c8617df6"
   },
   "outputs": [
    {
     "name": "stdout",
     "output_type": "stream",
     "text": [
      "count     43142.000000\n",
      "mean     248761.727018\n",
      "std      155645.849586\n",
      "min           5.000000\n",
      "25%      111502.500000\n",
      "50%      232250.500000\n",
      "75%      424287.000000\n",
      "max      500558.000000\n",
      "Name: SubscriberKey, dtype: float64\n",
      "count     43142\n",
      "unique    12476\n",
      "top       gmail\n",
      "freq      16894\n",
      "Name: EmailDomain, dtype: object\n",
      "count       43142\n",
      "unique       1928\n",
      "top       2/13/13\n",
      "freq          460\n",
      "Name: AccountCreatedDate, dtype: object\n",
      "count     43142\n",
      "unique        2\n",
      "top         STD\n",
      "freq      25334\n",
      "Name: ProductType, dtype: object\n",
      "count    43142.000000\n",
      "mean        36.191337\n",
      "std         10.670588\n",
      "min          2.990000\n",
      "25%         29.000000\n",
      "50%         29.000000\n",
      "75%         49.000000\n",
      "max         49.000000\n",
      "Name: BilledAmount, dtype: float64\n",
      "count      43142\n",
      "unique       181\n",
      "top       7/1/15\n",
      "freq        3282\n",
      "Name: StartDate, dtype: object\n",
      "count      43142\n",
      "unique        29\n",
      "top       8/1/15\n",
      "freq        4112\n",
      "Name: EndDate, dtype: object\n",
      "count       43142\n",
      "unique          5\n",
      "top       Renewal\n",
      "freq        35269\n",
      "Name: BeginningState, dtype: object\n",
      "count       43142\n",
      "unique          4\n",
      "top       Renewed\n",
      "freq        34862\n",
      "Name: EndingState, dtype: object\n",
      "count    43142.000000\n",
      "mean        15.363265\n",
      "std         13.598060\n",
      "min          1.000000\n",
      "25%          4.000000\n",
      "50%         12.000000\n",
      "75%         24.000000\n",
      "max         85.000000\n",
      "Name: TenureMonth, dtype: float64\n",
      "count      34612\n",
      "unique         9\n",
      "top       Direct\n",
      "freq       10698\n",
      "Name: Channel, dtype: object\n",
      "count     42959\n",
      "unique        2\n",
      "top         yes\n",
      "freq      39128\n",
      "Name: AutoRenewOn, dtype: object\n",
      "count    43142.000000\n",
      "mean        14.407352\n",
      "std        106.047616\n",
      "min          0.000000\n",
      "25%          3.000000\n",
      "50%          8.000000\n",
      "75%         16.000000\n",
      "max       3094.000000\n",
      "Name: NActiveMonths, dtype: float64\n",
      "count    43142.000000\n",
      "mean         9.008507\n",
      "std         27.583068\n",
      "min          1.000000\n",
      "25%          2.000000\n",
      "50%          5.000000\n",
      "75%         13.000000\n",
      "max       3151.000000\n",
      "Name: NContinuousActiveMonths, dtype: float64\n",
      "count    43142.000000\n",
      "mean        13.567614\n",
      "std        107.770625\n",
      "min          1.000000\n",
      "25%          3.000000\n",
      "50%          7.000000\n",
      "75%         14.000000\n",
      "max       3151.000000\n",
      "Name: MaxContinuousActiveMonths, dtype: float64\n",
      "count     43113\n",
      "unique      155\n",
      "top          US\n",
      "freq      24336\n",
      "Name: CountryCode, dtype: object\n",
      "count     19313\n",
      "unique    14323\n",
      "top        None\n",
      "freq        228\n",
      "Name: Company, dtype: object\n",
      "count    43142.000000\n",
      "mean         0.359047\n",
      "std          0.479727\n",
      "min          0.000000\n",
      "25%          0.000000\n",
      "50%          0.000000\n",
      "75%          1.000000\n",
      "max          1.000000\n",
      "Name: StartTrial, dtype: float64\n",
      "count    43142.000000\n",
      "mean         0.427055\n",
      "std          0.783365\n",
      "min          0.000000\n",
      "25%          0.000000\n",
      "50%          0.000000\n",
      "75%          1.000000\n",
      "max          9.000000\n",
      "Name: NPrevChurns, dtype: float64\n",
      "count    43142.000000\n",
      "mean         0.057902\n",
      "std          0.233560\n",
      "min          0.000000\n",
      "25%          0.000000\n",
      "50%          0.000000\n",
      "75%          0.000000\n",
      "max          1.000000\n",
      "Name: TurnAutoRenewOff, dtype: float64\n",
      "count    43142.000000\n",
      "mean         0.138504\n",
      "std          0.198675\n",
      "min          0.000000\n",
      "25%          0.000000\n",
      "50%          0.055556\n",
      "75%          0.222222\n",
      "max          1.000000\n",
      "Name: PercActiveDay, dtype: float64\n",
      "count    43142.000000\n",
      "mean         0.024404\n",
      "std          0.135592\n",
      "min          0.000000\n",
      "25%          0.000000\n",
      "50%          0.000000\n",
      "75%          0.000000\n",
      "max          1.000000\n",
      "Name: PercOfflineView, dtype: float64\n",
      "count    42509.000000\n",
      "mean        39.743513\n",
      "std         71.127821\n",
      "min         -8.000000\n",
      "25%          3.000000\n",
      "50%         14.000000\n",
      "75%         44.000000\n",
      "max        854.000000\n",
      "Name: DaysSinceLastLogin, dtype: float64\n",
      "count    43142.000000\n",
      "mean         8.008660\n",
      "std         20.668215\n",
      "min          0.000000\n",
      "25%          0.000000\n",
      "50%          0.626852\n",
      "75%          8.172059\n",
      "max        916.563200\n",
      "Name: ViewMinPerDay, dtype: float64\n",
      "count    43142.000000\n",
      "mean        25.600872\n",
      "std         39.352898\n",
      "min          0.000000\n",
      "25%          0.000000\n",
      "50%          8.569444\n",
      "75%         40.677780\n",
      "max        967.483300\n",
      "Name: ViewMinPerActiveDay, dtype: float64\n",
      "count    43142.000000\n",
      "mean         2.908999\n",
      "std          9.382579\n",
      "min          0.000000\n",
      "25%          0.000000\n",
      "50%          0.176471\n",
      "75%          2.687500\n",
      "max        584.368400\n",
      "Name: ClipsPerDay, dtype: float64\n",
      "count    43142.000000\n",
      "mean         9.188081\n",
      "std         18.001491\n",
      "min          0.000000\n",
      "25%          0.000000\n",
      "50%          2.666667\n",
      "75%         13.000000\n",
      "max        705.000000\n",
      "Name: ClipsPerActiveDay, dtype: float64\n",
      "count    43142.000000\n",
      "mean         0.136116\n",
      "std          0.273355\n",
      "min          0.000000\n",
      "25%          0.000000\n",
      "50%          0.055556\n",
      "75%          0.166667\n",
      "max         10.421050\n",
      "Name: NCoursesPerDay, dtype: float64\n",
      "count    43142.000000\n",
      "mean         0.148551\n",
      "std          0.213174\n",
      "min          0.000000\n",
      "25%          0.000000\n",
      "50%          0.040111\n",
      "75%          0.233476\n",
      "max          1.008601\n",
      "Name: CourseCompletionRate, dtype: float64\n",
      "count    43142.000000\n",
      "mean         0.261261\n",
      "std          0.353063\n",
      "min          0.000000\n",
      "25%          0.000000\n",
      "50%          0.048791\n",
      "75%          0.448053\n",
      "max          1.040264\n",
      "Name: MaxCourseCompletionRate, dtype: float64\n",
      "count     43142\n",
      "unique        4\n",
      "top        None\n",
      "freq      19576\n",
      "Name: CoursePillar, dtype: object\n"
     ]
    }
   ],
   "source": [
    "# dataset statistic\n",
    "for col in df.columns:\n",
    "    print (df[col].describe())"
   ]
  },
  {
   "cell_type": "markdown",
   "metadata": {
    "colab_type": "text",
    "id": "S3kRYPxZ-fdy"
   },
   "source": [
    "### Finding Missing Value"
   ]
  },
  {
   "cell_type": "code",
   "execution_count": 0,
   "metadata": {
    "colab": {},
    "colab_type": "code",
    "id": "_hRqRzGE-fdz"
   },
   "outputs": [],
   "source": [
    "# building up the functions to find the missing rows in each column\n",
    "def count_missing(df,col):\n",
    "    return (df[col].isnull().mean())*df[col].count()"
   ]
  },
  {
   "cell_type": "code",
   "execution_count": 8,
   "metadata": {
    "colab": {
     "base_uri": "https://localhost:8080/",
     "height": 102
    },
    "colab_type": "code",
    "id": "PO7x9Y6U-fd1",
    "outputId": "c8be9b53-8981-4ca1-caab-20da8a41df5f"
   },
   "outputs": [
    {
     "name": "stdout",
     "output_type": "stream",
     "text": [
      "Channel: 6843.455565342359\n",
      "AutoRenewOn: 182.22374947846646\n",
      "CountryCode: 28.980506235223217\n",
      "Company: 10667.319016271846\n",
      "DaysSinceLastLogin: 623.7123220991145\n"
     ]
    }
   ],
   "source": [
    "for col in df.columns:\n",
    "    missing_count = count_missing(df, col)\n",
    "    if missing_count > 0:\n",
    "        print(\"{}: {}\".format(col, missing_count))"
   ]
  },
  {
   "cell_type": "code",
   "execution_count": 0,
   "metadata": {
    "colab": {},
    "colab_type": "code",
    "id": "eGLGoJX5-fd4"
   },
   "outputs": [],
   "source": [
    "# Build up the function for finding missing value in each column\n",
    "def missing_value(df):\n",
    "    # find percentage of missing value for each column\n",
    "    missing_df = df.isnull().mean()*100\n",
    "    #filter our only columns, which have missing values\n",
    "    with_nan_df = missing_df[missing_df > 0]\n",
    "    return with_nan_df"
   ]
  },
  {
   "cell_type": "code",
   "execution_count": 10,
   "metadata": {
    "colab": {
     "base_uri": "https://localhost:8080/",
     "height": 388
    },
    "colab_type": "code",
    "id": "12iRMHZ1-fd6",
    "outputId": "ab1be746-a2c3-4d96-9d64-3a4fe1b23e8d"
   },
   "outputs": [
    {
     "data": {
      "text/plain": [
       "<matplotlib.axes._subplots.AxesSubplot at 0x7f69f7064be0>"
      ]
     },
     "execution_count": 10,
     "metadata": {
      "tags": []
     },
     "output_type": "execute_result"
    },
    {
     "data": {
      "image/png": "[encoded data removed]",
      "text/plain": [
       "<Figure size 432x288 with 1 Axes>"
      ]
     },
     "metadata": {
      "tags": []
     },
     "output_type": "display_data"
    }
   ],
   "source": [
    "#plot the result\n",
    "with_nan_df_1= missing_value(df)\n",
    "with_nan_df_1.plot.bar(title = 'Missing values per column, %')"
   ]
  },
  {
   "cell_type": "markdown",
   "metadata": {
    "colab_type": "text",
    "id": "5MRHxSV5-fd9"
   },
   "source": [
    "According to the graph above, over 50% of the data in Company is missing, and there are also almost 20% of the data is missing in the channel column. therefore it is not necessary to analyze with company and channel column.\n",
    "The rows with null or empty value in AutoRenewOn, CountryCode and DaysSinceLast Login will be delete"
   ]
  },
  {
   "cell_type": "code",
   "execution_count": 0,
   "metadata": {
    "colab": {},
    "colab_type": "code",
    "id": "i0Y370yN-fd-"
   },
   "outputs": [],
   "source": [
    "# drop Company, channel columns\n",
    "df = df.drop(['Company','Channel'],axis = 1)"
   ]
  },
  {
   "cell_type": "code",
   "execution_count": 0,
   "metadata": {
    "colab": {},
    "colab_type": "code",
    "id": "KW_KVEcU-feA"
   },
   "outputs": [],
   "source": [
    "# drop missing rows in the columns with missing values\n",
    "df_non_null = df.dropna(how = 'any', subset = [\"AutoRenewOn\",\"CountryCode\",\"DaysSinceLastLogin\"])"
   ]
  },
  {
   "cell_type": "code",
   "execution_count": 13,
   "metadata": {
    "colab": {
     "base_uri": "https://localhost:8080/",
     "height": 1000
    },
    "colab_type": "code",
    "id": "tyE7aFG7-feD",
    "outputId": "b3263697-4adc-40c5-e45b-55269bbefa12"
   },
   "outputs": [
    {
     "name": "stdout",
     "output_type": "stream",
     "text": [
      "SubscriberKey                43142\n",
      "EmailDomain                  43142\n",
      "AccountCreatedDate           43142\n",
      "ProductType                  43142\n",
      "BilledAmount                 43142\n",
      "StartDate                    43142\n",
      "EndDate                      43142\n",
      "BeginningState               43142\n",
      "EndingState                  43142\n",
      "TenureMonth                  43142\n",
      "AutoRenewOn                  42959\n",
      "NActiveMonths                43142\n",
      "NContinuousActiveMonths      43142\n",
      "MaxContinuousActiveMonths    43142\n",
      "CountryCode                  43113\n",
      "StartTrial                   43142\n",
      "NPrevChurns                  43142\n",
      "TurnAutoRenewOff             43142\n",
      "PercActiveDay                43142\n",
      "PercOfflineView              43142\n",
      "DaysSinceLastLogin           42509\n",
      "ViewMinPerDay                43142\n",
      "ViewMinPerActiveDay          43142\n",
      "ClipsPerDay                  43142\n",
      "ClipsPerActiveDay            43142\n",
      "NCoursesPerDay               43142\n",
      "CourseCompletionRate         43142\n",
      "MaxCourseCompletionRate      43142\n",
      "CoursePillar                 43142\n",
      "dtype: int64\n",
      "df_non_null: SubscriberKey                42316\n",
      "EmailDomain                  42316\n",
      "AccountCreatedDate           42316\n",
      "ProductType                  42316\n",
      "BilledAmount                 42316\n",
      "StartDate                    42316\n",
      "EndDate                      42316\n",
      "BeginningState               42316\n",
      "EndingState                  42316\n",
      "TenureMonth                  42316\n",
      "AutoRenewOn                  42316\n",
      "NActiveMonths                42316\n",
      "NContinuousActiveMonths      42316\n",
      "MaxContinuousActiveMonths    42316\n",
      "CountryCode                  42316\n",
      "StartTrial                   42316\n",
      "NPrevChurns                  42316\n",
      "TurnAutoRenewOff             42316\n",
      "PercActiveDay                42316\n",
      "PercOfflineView              42316\n",
      "DaysSinceLastLogin           42316\n",
      "ViewMinPerDay                42316\n",
      "ViewMinPerActiveDay          42316\n",
      "ClipsPerDay                  42316\n",
      "ClipsPerActiveDay            42316\n",
      "NCoursesPerDay               42316\n",
      "CourseCompletionRate         42316\n",
      "MaxCourseCompletionRate      42316\n",
      "CoursePillar                 42316\n",
      "dtype: int64\n",
      "SubscriberKey                826\n",
      "EmailDomain                  826\n",
      "AccountCreatedDate           826\n",
      "ProductType                  826\n",
      "BilledAmount                 826\n",
      "StartDate                    826\n",
      "EndDate                      826\n",
      "BeginningState               826\n",
      "EndingState                  826\n",
      "TenureMonth                  826\n",
      "AutoRenewOn                  643\n",
      "NActiveMonths                826\n",
      "NContinuousActiveMonths      826\n",
      "MaxContinuousActiveMonths    826\n",
      "CountryCode                  797\n",
      "StartTrial                   826\n",
      "NPrevChurns                  826\n",
      "TurnAutoRenewOff             826\n",
      "PercActiveDay                826\n",
      "PercOfflineView              826\n",
      "DaysSinceLastLogin           193\n",
      "ViewMinPerDay                826\n",
      "ViewMinPerActiveDay          826\n",
      "ClipsPerDay                  826\n",
      "ClipsPerActiveDay            826\n",
      "NCoursesPerDay               826\n",
      "CourseCompletionRate         826\n",
      "MaxCourseCompletionRate      826\n",
      "CoursePillar                 826\n",
      "dtype: int64 rows have been removed.\n"
     ]
    }
   ],
   "source": [
    "# Checking the columns rows number before and after cleaning with missing values\n",
    "print(\"{}\".format(df.count()))\n",
    "print(\"df_non_null: {}\".format(df_non_null.count())) # no missing values\n",
    "print(\"{} rows have been removed.\".format(df.count() - df_non_null.count()))"
   ]
  },
  {
   "cell_type": "code",
   "execution_count": 14,
   "metadata": {
    "colab": {
     "base_uri": "https://localhost:8080/",
     "height": 34
    },
    "colab_type": "code",
    "id": "f-UK3DhS-feI",
    "outputId": "29675c63-52b1-4972-f6f0-3fee80004186"
   },
   "outputs": [
    {
     "data": {
      "text/plain": [
       "41949"
      ]
     },
     "execution_count": 14,
     "metadata": {
      "tags": []
     },
     "output_type": "execute_result"
    }
   ],
   "source": [
    "# unique user numbers\n",
    "df.SubscriberKey.nunique()"
   ]
  },
  {
   "cell_type": "markdown",
   "metadata": {
    "colab_type": "text",
    "id": "SsXsJu-t-feL"
   },
   "source": [
    "## <a class=\"anchor\" id=\"Exploratory\">Part II : Exploratory Data Analysis</a>"
   ]
  },
  {
   "cell_type": "markdown",
   "metadata": {
    "colab_type": "text",
    "id": "zS8LHG5T-feL"
   },
   "source": [
    "#### some insight into the descriptive statistics of the data."
   ]
  },
  {
   "cell_type": "code",
   "execution_count": 15,
   "metadata": {
    "colab": {
     "base_uri": "https://localhost:8080/",
     "height": 527
    },
    "colab_type": "code",
    "id": "CfZ9H6R6-feM",
    "outputId": "fdb1311d-633b-4515-ad2f-58566ecb1563"
   },
   "outputs": [
    {
     "data": {
      "text/plain": [
       "SubscriberKey                  int64\n",
       "EmailDomain                   object\n",
       "AccountCreatedDate            object\n",
       "ProductType                   object\n",
       "BilledAmount                 float64\n",
       "StartDate                     object\n",
       "EndDate                       object\n",
       "BeginningState                object\n",
       "EndingState                   object\n",
       "TenureMonth                    int64\n",
       "AutoRenewOn                   object\n",
       "NActiveMonths                  int64\n",
       "NContinuousActiveMonths        int64\n",
       "MaxContinuousActiveMonths      int64\n",
       "CountryCode                   object\n",
       "StartTrial                     int64\n",
       "NPrevChurns                    int64\n",
       "TurnAutoRenewOff               int64\n",
       "PercActiveDay                float64\n",
       "PercOfflineView              float64\n",
       "DaysSinceLastLogin           float64\n",
       "ViewMinPerDay                float64\n",
       "ViewMinPerActiveDay          float64\n",
       "ClipsPerDay                  float64\n",
       "ClipsPerActiveDay            float64\n",
       "NCoursesPerDay               float64\n",
       "CourseCompletionRate         float64\n",
       "MaxCourseCompletionRate      float64\n",
       "CoursePillar                  object\n",
       "dtype: object"
      ]
     },
     "execution_count": 15,
     "metadata": {
      "tags": []
     },
     "output_type": "execute_result"
    }
   ],
   "source": [
    "# check the datatype of each column\n",
    "df_non_null.dtypes"
   ]
  },
  {
   "cell_type": "markdown",
   "metadata": {
    "colab_type": "text",
    "id": "t2wdG4Li-feP"
   },
   "source": [
    "### Varaiable Information\n",
    "Based on the information provided in the introduction sheet and above, the variables in this data set could be defined as below:\n",
    "\n",
    "##### Target variable<br>\n",
    "EndingState<br>\n",
    "\n",
    "##### comment level features<br>\n",
    "TurnAutoRenewOff<br>\n",
    "BeginningState<br>\n",
    "NPrevChurns<br>\n",
    "StartTrial<br>\n",
    "BilledAmount<br>\n",
    "ProductType<br>\n",
    "TenureMonth<br>\n",
    "AutoRenewOn<br>\n",
    "NActiveMonths<br>\n",
    "NContinuousActiveMonths<br>\n",
    "MaxContinuousActiveMonths<br>\n",
    "PerActiveDay<br>\n",
    "PerOfflineView<br>\n",
    "ViewMinPerDay<br>\n",
    "ViewMinPerActiveDat<br>\n",
    "ClipsPerDay<br>\n",
    "ClipsPerActiveDay<br>\n",
    "CourseCompletionRate<br>\n",
    "MaxCourseCompletionRate<br>"
   ]
  },
  {
   "cell_type": "code",
   "execution_count": 16,
   "metadata": {
    "colab": {
     "base_uri": "https://localhost:8080/",
     "height": 323
    },
    "colab_type": "code",
    "id": "T23_KBqF-feP",
    "outputId": "77fb629a-67be-4245-b0e2-35bca7ce0ef4"
   },
   "outputs": [
    {
     "name": "stdout",
     "output_type": "stream",
     "text": [
      "BeginningState ['Renewal' 'Reactivation' 'Conversion' 'Change' 'Direct']\n",
      "EndingState ['Renewed' 'Ended' 'Changed' 'Cancelled']\n",
      "ProductType ['STD' 'PLUS']\n",
      "BeginningState ['Renewal' 'Reactivation' 'Conversion' 'Change' 'Direct']\n",
      "AutoRenewOn ['yes' 'no']\n",
      "CountryCode ['US' 'CA' 'FO' 'SE' 'GB' 'DE' 'AU' 'NG' 'IN' 'IE' 'HK' 'AR' 'CH' 'DK'\n",
      " 'FR' 'BR' 'NZ' 'ZA' 'LV' 'IL' 'MX' 'PL' 'IS' 'IT' 'NL' 'NO' 'CR' 'ES'\n",
      " 'BE' 'SA' 'AW' 'TR' 'RO' 'PH' 'RU' 'FI' 'AT' 'UK' 'PT' 'GT' 'GR' 'GY'\n",
      " 'SG' 'EC' 'AE' 'BA' 'CW' 'GE' 'ID' 'BH' 'HR' 'CO' 'MY' 'BN' 'JP' 'DO'\n",
      " 'RS' 'TH' 'BG' 'TT' 'CZ' 'PE' 'SI' 'ME' 'TW' 'QA' 'MV' 'KW' 'UZ' 'BM'\n",
      " 'PK' 'UY' 'CY' 'MK' 'LT' 'KZ' 'KR' 'UG' 'MU' 'NI' 'PR' 'PA' 'UA' 'CL'\n",
      " 'VI' 'SR' 'HU' 'VE' 'MA' 'KH' 'OM' 'AL' 'BD' 'KY' 'SK' 'CN' 'JE' 'BS'\n",
      " 'LB' 'TN' 'IQ' 'NP' 'VN' 'AF' 'AZ' 'JM' 'VU' 'LK' 'SN' 'EG' 'GG' 'MZ'\n",
      " 'PY' 'LU' 'EE' 'GH' 'KE' 'MG' 'BB' 'AX' 'BW' 'AG' 'MD' 'LC' 'MT' 'FJ'\n",
      " 'BO' 'JO' 'RW' 'GU' 'AM' 'CM' 'VG' 'IM' 'SL' 'GD' 'MO' 'TZ' 'GI' 'HN'\n",
      " 'SV' 'NC' 'ET' 'PG' 'KG' 'GP' 'GA' 'AO' 'PS' 'TL' 'MC' 'HT' 'DZ' 'MR'\n",
      " 'VC']\n",
      "CoursePillar ['Software Development' 'None' 'IT Pro' 'Creative']\n"
     ]
    }
   ],
   "source": [
    "# Checking the category of some columns\n",
    "for col in ['BeginningState','EndingState','ProductType','BeginningState','AutoRenewOn','CountryCode','CoursePillar']:\n",
    "    print (col,df_non_null[col].unique())"
   ]
  },
  {
   "cell_type": "markdown",
   "metadata": {
    "colab_type": "text",
    "id": "4SQovCfW-feS"
   },
   "source": [
    "##### Define Churn\n",
    "Churn will be defined as when `cancelled` or `ended` events happens in the `EndingState`, and users with the events are churned users in this analysis."
   ]
  },
  {
   "cell_type": "markdown",
   "metadata": {
    "colab_type": "text",
    "id": "P4WdNKrC-feT"
   },
   "source": [
    "Churn: `Cancelled` or `Ended`"
   ]
  },
  {
   "cell_type": "code",
   "execution_count": 17,
   "metadata": {
    "colab": {
     "base_uri": "https://localhost:8080/",
     "height": 558
    },
    "colab_type": "code",
    "id": "cqAMdusj-feU",
    "outputId": "57561de1-2fda-4f00-d5a1-77323c902bb2"
   },
   "outputs": [
    {
     "data": {
      "text/html": [
       "<div>\n",
       "<style scoped>\n",
       "    .dataframe tbody tr th:only-of-type {\n",
       "        vertical-align: middle;\n",
       "    }\n",
       "\n",
       "    .dataframe tbody tr th {\n",
       "        vertical-align: top;\n",
       "    }\n",
       "\n",
       "    .dataframe thead th {\n",
       "        text-align: right;\n",
       "    }\n",
       "</style>\n",
       "<table border=\"1\" class=\"dataframe\">\n",
       "  <thead>\n",
       "    <tr style=\"text-align: right;\">\n",
       "      <th></th>\n",
       "      <th>SubscriberKey</th>\n",
       "      <th>EmailDomain</th>\n",
       "      <th>AccountCreatedDate</th>\n",
       "      <th>ProductType</th>\n",
       "      <th>BilledAmount</th>\n",
       "      <th>StartDate</th>\n",
       "      <th>EndDate</th>\n",
       "      <th>BeginningState</th>\n",
       "      <th>EndingState</th>\n",
       "      <th>TenureMonth</th>\n",
       "      <th>AutoRenewOn</th>\n",
       "      <th>NActiveMonths</th>\n",
       "      <th>NContinuousActiveMonths</th>\n",
       "      <th>MaxContinuousActiveMonths</th>\n",
       "      <th>CountryCode</th>\n",
       "      <th>StartTrial</th>\n",
       "      <th>NPrevChurns</th>\n",
       "      <th>TurnAutoRenewOff</th>\n",
       "      <th>PercActiveDay</th>\n",
       "      <th>PercOfflineView</th>\n",
       "      <th>DaysSinceLastLogin</th>\n",
       "      <th>ViewMinPerDay</th>\n",
       "      <th>ViewMinPerActiveDay</th>\n",
       "      <th>ClipsPerDay</th>\n",
       "      <th>ClipsPerActiveDay</th>\n",
       "      <th>NCoursesPerDay</th>\n",
       "      <th>CourseCompletionRate</th>\n",
       "      <th>MaxCourseCompletionRate</th>\n",
       "      <th>CoursePillar</th>\n",
       "    </tr>\n",
       "  </thead>\n",
       "  <tbody>\n",
       "    <tr>\n",
       "      <th>13</th>\n",
       "      <td>150</td>\n",
       "      <td>thesmsgroup</td>\n",
       "      <td>6/29/12</td>\n",
       "      <td>PLUS</td>\n",
       "      <td>49.0</td>\n",
       "      <td>7/1/15</td>\n",
       "      <td>8/1/15</td>\n",
       "      <td>Renewal</td>\n",
       "      <td>Ended</td>\n",
       "      <td>37</td>\n",
       "      <td>no</td>\n",
       "      <td>18</td>\n",
       "      <td>19</td>\n",
       "      <td>19</td>\n",
       "      <td>US</td>\n",
       "      <td>0</td>\n",
       "      <td>0</td>\n",
       "      <td>1</td>\n",
       "      <td>0.000000</td>\n",
       "      <td>0.0</td>\n",
       "      <td>18.0</td>\n",
       "      <td>0.000000</td>\n",
       "      <td>0.000000</td>\n",
       "      <td>0.000000</td>\n",
       "      <td>0.000000</td>\n",
       "      <td>0.000000</td>\n",
       "      <td>0.000000</td>\n",
       "      <td>0.000000</td>\n",
       "      <td>None</td>\n",
       "    </tr>\n",
       "    <tr>\n",
       "      <th>36</th>\n",
       "      <td>430</td>\n",
       "      <td>gmail</td>\n",
       "      <td>8/14/13</td>\n",
       "      <td>STD</td>\n",
       "      <td>29.0</td>\n",
       "      <td>8/3/15</td>\n",
       "      <td>9/3/15</td>\n",
       "      <td>Renewal</td>\n",
       "      <td>Cancelled</td>\n",
       "      <td>24</td>\n",
       "      <td>no</td>\n",
       "      <td>19</td>\n",
       "      <td>9</td>\n",
       "      <td>9</td>\n",
       "      <td>CH</td>\n",
       "      <td>0</td>\n",
       "      <td>2</td>\n",
       "      <td>1</td>\n",
       "      <td>0.111111</td>\n",
       "      <td>0.0</td>\n",
       "      <td>16.0</td>\n",
       "      <td>2.033333</td>\n",
       "      <td>18.300000</td>\n",
       "      <td>0.333333</td>\n",
       "      <td>3.000000</td>\n",
       "      <td>0.111111</td>\n",
       "      <td>0.059447</td>\n",
       "      <td>0.111579</td>\n",
       "      <td>Software Development</td>\n",
       "    </tr>\n",
       "    <tr>\n",
       "      <th>45</th>\n",
       "      <td>495</td>\n",
       "      <td>gmail</td>\n",
       "      <td>12/12/13</td>\n",
       "      <td>STD</td>\n",
       "      <td>29.0</td>\n",
       "      <td>3/27/15</td>\n",
       "      <td>4/27/15</td>\n",
       "      <td>Renewal</td>\n",
       "      <td>Cancelled</td>\n",
       "      <td>16</td>\n",
       "      <td>no</td>\n",
       "      <td>3</td>\n",
       "      <td>2</td>\n",
       "      <td>2</td>\n",
       "      <td>CA</td>\n",
       "      <td>0</td>\n",
       "      <td>1</td>\n",
       "      <td>1</td>\n",
       "      <td>0.000000</td>\n",
       "      <td>0.0</td>\n",
       "      <td>33.0</td>\n",
       "      <td>0.000000</td>\n",
       "      <td>0.000000</td>\n",
       "      <td>0.000000</td>\n",
       "      <td>0.000000</td>\n",
       "      <td>0.000000</td>\n",
       "      <td>0.000000</td>\n",
       "      <td>0.000000</td>\n",
       "      <td>None</td>\n",
       "    </tr>\n",
       "    <tr>\n",
       "      <th>46</th>\n",
       "      <td>495</td>\n",
       "      <td>gmail</td>\n",
       "      <td>12/12/13</td>\n",
       "      <td>PLUS</td>\n",
       "      <td>49.0</td>\n",
       "      <td>5/5/15</td>\n",
       "      <td>6/5/15</td>\n",
       "      <td>Reactivation</td>\n",
       "      <td>Ended</td>\n",
       "      <td>17</td>\n",
       "      <td>yes</td>\n",
       "      <td>4</td>\n",
       "      <td>1</td>\n",
       "      <td>2</td>\n",
       "      <td>CA</td>\n",
       "      <td>0</td>\n",
       "      <td>2</td>\n",
       "      <td>0</td>\n",
       "      <td>0.222222</td>\n",
       "      <td>0.0</td>\n",
       "      <td>14.0</td>\n",
       "      <td>12.001852</td>\n",
       "      <td>54.008333</td>\n",
       "      <td>4.444444</td>\n",
       "      <td>20.000000</td>\n",
       "      <td>0.111111</td>\n",
       "      <td>0.493890</td>\n",
       "      <td>0.574226</td>\n",
       "      <td>Software Development</td>\n",
       "    </tr>\n",
       "    <tr>\n",
       "      <th>51</th>\n",
       "      <td>542</td>\n",
       "      <td>outlook</td>\n",
       "      <td>4/9/14</td>\n",
       "      <td>PLUS</td>\n",
       "      <td>24.5</td>\n",
       "      <td>8/17/15</td>\n",
       "      <td>9/18/15</td>\n",
       "      <td>Renewal</td>\n",
       "      <td>Ended</td>\n",
       "      <td>17</td>\n",
       "      <td>no</td>\n",
       "      <td>3</td>\n",
       "      <td>2</td>\n",
       "      <td>2</td>\n",
       "      <td>US</td>\n",
       "      <td>1</td>\n",
       "      <td>2</td>\n",
       "      <td>0</td>\n",
       "      <td>0.736842</td>\n",
       "      <td>0.0</td>\n",
       "      <td>0.0</td>\n",
       "      <td>143.979825</td>\n",
       "      <td>195.401191</td>\n",
       "      <td>33.947368</td>\n",
       "      <td>46.071429</td>\n",
       "      <td>0.684211</td>\n",
       "      <td>0.951275</td>\n",
       "      <td>1.000000</td>\n",
       "      <td>Software Development</td>\n",
       "    </tr>\n",
       "    <tr>\n",
       "      <th>...</th>\n",
       "      <td>...</td>\n",
       "      <td>...</td>\n",
       "      <td>...</td>\n",
       "      <td>...</td>\n",
       "      <td>...</td>\n",
       "      <td>...</td>\n",
       "      <td>...</td>\n",
       "      <td>...</td>\n",
       "      <td>...</td>\n",
       "      <td>...</td>\n",
       "      <td>...</td>\n",
       "      <td>...</td>\n",
       "      <td>...</td>\n",
       "      <td>...</td>\n",
       "      <td>...</td>\n",
       "      <td>...</td>\n",
       "      <td>...</td>\n",
       "      <td>...</td>\n",
       "      <td>...</td>\n",
       "      <td>...</td>\n",
       "      <td>...</td>\n",
       "      <td>...</td>\n",
       "      <td>...</td>\n",
       "      <td>...</td>\n",
       "      <td>...</td>\n",
       "      <td>...</td>\n",
       "      <td>...</td>\n",
       "      <td>...</td>\n",
       "      <td>...</td>\n",
       "    </tr>\n",
       "    <tr>\n",
       "      <th>43131</th>\n",
       "      <td>500450</td>\n",
       "      <td>gmail</td>\n",
       "      <td>8/23/15</td>\n",
       "      <td>STD</td>\n",
       "      <td>29.0</td>\n",
       "      <td>8/23/15</td>\n",
       "      <td>9/23/15</td>\n",
       "      <td>Direct</td>\n",
       "      <td>Cancelled</td>\n",
       "      <td>1</td>\n",
       "      <td>no</td>\n",
       "      <td>1</td>\n",
       "      <td>1</td>\n",
       "      <td>1</td>\n",
       "      <td>US</td>\n",
       "      <td>0</td>\n",
       "      <td>0</td>\n",
       "      <td>0</td>\n",
       "      <td>0.444444</td>\n",
       "      <td>0.0</td>\n",
       "      <td>4.0</td>\n",
       "      <td>26.341670</td>\n",
       "      <td>59.268750</td>\n",
       "      <td>7.555556</td>\n",
       "      <td>17.000000</td>\n",
       "      <td>0.555556</td>\n",
       "      <td>0.244949</td>\n",
       "      <td>0.997850</td>\n",
       "      <td>Software Development</td>\n",
       "    </tr>\n",
       "    <tr>\n",
       "      <th>43133</th>\n",
       "      <td>500482</td>\n",
       "      <td>gmail</td>\n",
       "      <td>8/23/15</td>\n",
       "      <td>STD</td>\n",
       "      <td>29.0</td>\n",
       "      <td>8/23/15</td>\n",
       "      <td>9/23/15</td>\n",
       "      <td>Direct</td>\n",
       "      <td>Ended</td>\n",
       "      <td>1</td>\n",
       "      <td>yes</td>\n",
       "      <td>1</td>\n",
       "      <td>1</td>\n",
       "      <td>1</td>\n",
       "      <td>US</td>\n",
       "      <td>0</td>\n",
       "      <td>0</td>\n",
       "      <td>0</td>\n",
       "      <td>0.388889</td>\n",
       "      <td>0.0</td>\n",
       "      <td>0.0</td>\n",
       "      <td>26.131480</td>\n",
       "      <td>67.195240</td>\n",
       "      <td>8.222222</td>\n",
       "      <td>21.142860</td>\n",
       "      <td>0.388889</td>\n",
       "      <td>0.221403</td>\n",
       "      <td>0.762844</td>\n",
       "      <td>Software Development</td>\n",
       "    </tr>\n",
       "    <tr>\n",
       "      <th>43134</th>\n",
       "      <td>500489</td>\n",
       "      <td>gmail</td>\n",
       "      <td>8/23/15</td>\n",
       "      <td>STD</td>\n",
       "      <td>29.0</td>\n",
       "      <td>8/23/15</td>\n",
       "      <td>9/23/15</td>\n",
       "      <td>Direct</td>\n",
       "      <td>Ended</td>\n",
       "      <td>1</td>\n",
       "      <td>yes</td>\n",
       "      <td>1</td>\n",
       "      <td>1</td>\n",
       "      <td>1</td>\n",
       "      <td>SA</td>\n",
       "      <td>0</td>\n",
       "      <td>0</td>\n",
       "      <td>0</td>\n",
       "      <td>0.500000</td>\n",
       "      <td>0.0</td>\n",
       "      <td>0.0</td>\n",
       "      <td>65.917590</td>\n",
       "      <td>131.835200</td>\n",
       "      <td>37.833330</td>\n",
       "      <td>75.666670</td>\n",
       "      <td>0.555556</td>\n",
       "      <td>0.915449</td>\n",
       "      <td>1.000000</td>\n",
       "      <td>Software Development</td>\n",
       "    </tr>\n",
       "    <tr>\n",
       "      <th>43137</th>\n",
       "      <td>500534</td>\n",
       "      <td>gmail</td>\n",
       "      <td>8/23/15</td>\n",
       "      <td>STD</td>\n",
       "      <td>29.0</td>\n",
       "      <td>8/23/15</td>\n",
       "      <td>9/23/15</td>\n",
       "      <td>Direct</td>\n",
       "      <td>Ended</td>\n",
       "      <td>1</td>\n",
       "      <td>no</td>\n",
       "      <td>1</td>\n",
       "      <td>1</td>\n",
       "      <td>1</td>\n",
       "      <td>IN</td>\n",
       "      <td>0</td>\n",
       "      <td>0</td>\n",
       "      <td>0</td>\n",
       "      <td>0.500000</td>\n",
       "      <td>0.0</td>\n",
       "      <td>0.0</td>\n",
       "      <td>37.600930</td>\n",
       "      <td>75.201850</td>\n",
       "      <td>9.888889</td>\n",
       "      <td>19.777780</td>\n",
       "      <td>0.500000</td>\n",
       "      <td>0.469707</td>\n",
       "      <td>1.000000</td>\n",
       "      <td>Software Development</td>\n",
       "    </tr>\n",
       "    <tr>\n",
       "      <th>43138</th>\n",
       "      <td>500541</td>\n",
       "      <td>gmail</td>\n",
       "      <td>8/23/15</td>\n",
       "      <td>STD</td>\n",
       "      <td>29.0</td>\n",
       "      <td>8/23/15</td>\n",
       "      <td>9/23/15</td>\n",
       "      <td>Direct</td>\n",
       "      <td>Cancelled</td>\n",
       "      <td>1</td>\n",
       "      <td>no</td>\n",
       "      <td>1</td>\n",
       "      <td>1</td>\n",
       "      <td>1</td>\n",
       "      <td>IN</td>\n",
       "      <td>0</td>\n",
       "      <td>0</td>\n",
       "      <td>0</td>\n",
       "      <td>0.111111</td>\n",
       "      <td>0.0</td>\n",
       "      <td>16.0</td>\n",
       "      <td>4.143519</td>\n",
       "      <td>37.291670</td>\n",
       "      <td>1.111111</td>\n",
       "      <td>10.000000</td>\n",
       "      <td>0.055556</td>\n",
       "      <td>0.201913</td>\n",
       "      <td>0.201913</td>\n",
       "      <td>IT Pro</td>\n",
       "    </tr>\n",
       "  </tbody>\n",
       "</table>\n",
       "<p>7259 rows × 29 columns</p>\n",
       "</div>"
      ],
      "text/plain": [
       "       SubscriberKey  ...          CoursePillar\n",
       "13               150  ...                  None\n",
       "36               430  ...  Software Development\n",
       "45               495  ...                  None\n",
       "46               495  ...  Software Development\n",
       "51               542  ...  Software Development\n",
       "...              ...  ...                   ...\n",
       "43131         500450  ...  Software Development\n",
       "43133         500482  ...  Software Development\n",
       "43134         500489  ...  Software Development\n",
       "43137         500534  ...  Software Development\n",
       "43138         500541  ...                IT Pro\n",
       "\n",
       "[7259 rows x 29 columns]"
      ]
     },
     "execution_count": 17,
     "metadata": {
      "tags": []
     },
     "output_type": "execute_result"
    }
   ],
   "source": [
    "# finding the user with cancellation or ended service\n",
    "df_non_null[df_non_null['EndingState'].isin(['Cancelled','Ended'])]"
   ]
  },
  {
   "cell_type": "code",
   "execution_count": 18,
   "metadata": {
    "colab": {
     "base_uri": "https://localhost:8080/",
     "height": 119
    },
    "colab_type": "code",
    "id": "lj0-ssac-feX",
    "outputId": "34d3c854-b097-4bc7-a21b-90440a09c5c9"
   },
   "outputs": [
    {
     "name": "stderr",
     "output_type": "stream",
     "text": [
      "/usr/local/lib/python3.6/dist-packages/ipykernel_launcher.py:1: SettingWithCopyWarning: \n",
      "A value is trying to be set on a copy of a slice from a DataFrame.\n",
      "Try using .loc[row_indexer,col_indexer] = value instead\n",
      "\n",
      "See the caveats in the documentation: http://pandas.pydata.org/pandas-docs/stable/user_guide/indexing.html#returning-a-view-versus-a-copy\n",
      "  \"\"\"Entry point for launching an IPython kernel.\n"
     ]
    }
   ],
   "source": [
    "# Create new column to identify the churn action\n",
    "df_non_null['churned'] = df_non_null['EndingState'].apply(lambda x:1 if x in ['Cancelled', 'Ended'] else 0)"
   ]
  },
  {
   "cell_type": "code",
   "execution_count": 19,
   "metadata": {
    "colab": {
     "base_uri": "https://localhost:8080/",
     "height": 292
    },
    "colab_type": "code",
    "id": "mVC4xeoc-fea",
    "outputId": "5d9557d1-b658-4821-b360-41215ae21d8f"
   },
   "outputs": [
    {
     "data": {
      "text/html": [
       "<div>\n",
       "<style scoped>\n",
       "    .dataframe tbody tr th:only-of-type {\n",
       "        vertical-align: middle;\n",
       "    }\n",
       "\n",
       "    .dataframe tbody tr th {\n",
       "        vertical-align: top;\n",
       "    }\n",
       "\n",
       "    .dataframe thead th {\n",
       "        text-align: right;\n",
       "    }\n",
       "</style>\n",
       "<table border=\"1\" class=\"dataframe\">\n",
       "  <thead>\n",
       "    <tr style=\"text-align: right;\">\n",
       "      <th></th>\n",
       "      <th>SubscriberKey</th>\n",
       "      <th>EmailDomain</th>\n",
       "      <th>AccountCreatedDate</th>\n",
       "      <th>ProductType</th>\n",
       "      <th>BilledAmount</th>\n",
       "      <th>StartDate</th>\n",
       "      <th>EndDate</th>\n",
       "      <th>BeginningState</th>\n",
       "      <th>EndingState</th>\n",
       "      <th>TenureMonth</th>\n",
       "      <th>AutoRenewOn</th>\n",
       "      <th>NActiveMonths</th>\n",
       "      <th>NContinuousActiveMonths</th>\n",
       "      <th>MaxContinuousActiveMonths</th>\n",
       "      <th>CountryCode</th>\n",
       "      <th>StartTrial</th>\n",
       "      <th>NPrevChurns</th>\n",
       "      <th>TurnAutoRenewOff</th>\n",
       "      <th>PercActiveDay</th>\n",
       "      <th>PercOfflineView</th>\n",
       "      <th>DaysSinceLastLogin</th>\n",
       "      <th>ViewMinPerDay</th>\n",
       "      <th>ViewMinPerActiveDay</th>\n",
       "      <th>ClipsPerDay</th>\n",
       "      <th>ClipsPerActiveDay</th>\n",
       "      <th>NCoursesPerDay</th>\n",
       "      <th>CourseCompletionRate</th>\n",
       "      <th>MaxCourseCompletionRate</th>\n",
       "      <th>CoursePillar</th>\n",
       "      <th>churned</th>\n",
       "    </tr>\n",
       "  </thead>\n",
       "  <tbody>\n",
       "    <tr>\n",
       "      <th>0</th>\n",
       "      <td>5</td>\n",
       "      <td>social-media-productions</td>\n",
       "      <td>10/10/13</td>\n",
       "      <td>STD</td>\n",
       "      <td>29.00</td>\n",
       "      <td>4/17/15</td>\n",
       "      <td>5/17/15</td>\n",
       "      <td>Renewal</td>\n",
       "      <td>Renewed</td>\n",
       "      <td>19</td>\n",
       "      <td>yes</td>\n",
       "      <td>19</td>\n",
       "      <td>19</td>\n",
       "      <td>19</td>\n",
       "      <td>US</td>\n",
       "      <td>0</td>\n",
       "      <td>0</td>\n",
       "      <td>0</td>\n",
       "      <td>0.176471</td>\n",
       "      <td>0.0</td>\n",
       "      <td>13.0</td>\n",
       "      <td>10.737255</td>\n",
       "      <td>60.844444</td>\n",
       "      <td>6.941176</td>\n",
       "      <td>39.333333</td>\n",
       "      <td>0.176471</td>\n",
       "      <td>0.212801</td>\n",
       "      <td>0.419307</td>\n",
       "      <td>Software Development</td>\n",
       "      <td>0</td>\n",
       "    </tr>\n",
       "    <tr>\n",
       "      <th>1</th>\n",
       "      <td>13</td>\n",
       "      <td>hotmail</td>\n",
       "      <td>4/16/10</td>\n",
       "      <td>PLUS</td>\n",
       "      <td>16.81</td>\n",
       "      <td>6/30/15</td>\n",
       "      <td>8/1/15</td>\n",
       "      <td>Reactivation</td>\n",
       "      <td>Renewed</td>\n",
       "      <td>64</td>\n",
       "      <td>yes</td>\n",
       "      <td>3</td>\n",
       "      <td>8</td>\n",
       "      <td>8</td>\n",
       "      <td>CA</td>\n",
       "      <td>0</td>\n",
       "      <td>2</td>\n",
       "      <td>0</td>\n",
       "      <td>0.473684</td>\n",
       "      <td>0.0</td>\n",
       "      <td>3.0</td>\n",
       "      <td>10.529825</td>\n",
       "      <td>22.229630</td>\n",
       "      <td>3.368421</td>\n",
       "      <td>7.111111</td>\n",
       "      <td>0.157895</td>\n",
       "      <td>0.190862</td>\n",
       "      <td>0.404102</td>\n",
       "      <td>Software Development</td>\n",
       "      <td>0</td>\n",
       "    </tr>\n",
       "    <tr>\n",
       "      <th>2</th>\n",
       "      <td>28</td>\n",
       "      <td>hotmail</td>\n",
       "      <td>9/6/12</td>\n",
       "      <td>STD</td>\n",
       "      <td>29.00</td>\n",
       "      <td>4/28/15</td>\n",
       "      <td>5/28/15</td>\n",
       "      <td>Renewal</td>\n",
       "      <td>Renewed</td>\n",
       "      <td>33</td>\n",
       "      <td>yes</td>\n",
       "      <td>25</td>\n",
       "      <td>4</td>\n",
       "      <td>21</td>\n",
       "      <td>FO</td>\n",
       "      <td>0</td>\n",
       "      <td>1</td>\n",
       "      <td>0</td>\n",
       "      <td>0.000000</td>\n",
       "      <td>0.0</td>\n",
       "      <td>29.0</td>\n",
       "      <td>0.000000</td>\n",
       "      <td>0.000000</td>\n",
       "      <td>0.000000</td>\n",
       "      <td>0.000000</td>\n",
       "      <td>0.000000</td>\n",
       "      <td>0.000000</td>\n",
       "      <td>0.000000</td>\n",
       "      <td>None</td>\n",
       "      <td>0</td>\n",
       "    </tr>\n",
       "    <tr>\n",
       "      <th>3</th>\n",
       "      <td>51</td>\n",
       "      <td>gmail</td>\n",
       "      <td>12/8/13</td>\n",
       "      <td>STD</td>\n",
       "      <td>29.00</td>\n",
       "      <td>5/11/15</td>\n",
       "      <td>6/11/15</td>\n",
       "      <td>Renewal</td>\n",
       "      <td>Renewed</td>\n",
       "      <td>18</td>\n",
       "      <td>yes</td>\n",
       "      <td>13</td>\n",
       "      <td>10</td>\n",
       "      <td>10</td>\n",
       "      <td>US</td>\n",
       "      <td>0</td>\n",
       "      <td>1</td>\n",
       "      <td>0</td>\n",
       "      <td>0.055556</td>\n",
       "      <td>0.0</td>\n",
       "      <td>11.0</td>\n",
       "      <td>1.068519</td>\n",
       "      <td>19.233333</td>\n",
       "      <td>0.277778</td>\n",
       "      <td>5.000000</td>\n",
       "      <td>0.055556</td>\n",
       "      <td>0.116957</td>\n",
       "      <td>0.116957</td>\n",
       "      <td>Software Development</td>\n",
       "      <td>0</td>\n",
       "    </tr>\n",
       "    <tr>\n",
       "      <th>4</th>\n",
       "      <td>56</td>\n",
       "      <td>live</td>\n",
       "      <td>7/11/13</td>\n",
       "      <td>PLUS</td>\n",
       "      <td>49.00</td>\n",
       "      <td>8/23/15</td>\n",
       "      <td>9/23/15</td>\n",
       "      <td>Renewal</td>\n",
       "      <td>Renewed</td>\n",
       "      <td>26</td>\n",
       "      <td>yes</td>\n",
       "      <td>26</td>\n",
       "      <td>26</td>\n",
       "      <td>26</td>\n",
       "      <td>US</td>\n",
       "      <td>0</td>\n",
       "      <td>0</td>\n",
       "      <td>0</td>\n",
       "      <td>0.055556</td>\n",
       "      <td>0.0</td>\n",
       "      <td>2.0</td>\n",
       "      <td>1.725926</td>\n",
       "      <td>31.066667</td>\n",
       "      <td>0.333333</td>\n",
       "      <td>6.000000</td>\n",
       "      <td>0.055556</td>\n",
       "      <td>0.139678</td>\n",
       "      <td>0.139678</td>\n",
       "      <td>IT Pro</td>\n",
       "      <td>0</td>\n",
       "    </tr>\n",
       "  </tbody>\n",
       "</table>\n",
       "</div>"
      ],
      "text/plain": [
       "   SubscriberKey               EmailDomain  ...          CoursePillar churned\n",
       "0              5  social-media-productions  ...  Software Development       0\n",
       "1             13                   hotmail  ...  Software Development       0\n",
       "2             28                   hotmail  ...                  None       0\n",
       "3             51                     gmail  ...  Software Development       0\n",
       "4             56                      live  ...                IT Pro       0\n",
       "\n",
       "[5 rows x 30 columns]"
      ]
     },
     "execution_count": 19,
     "metadata": {
      "tags": []
     },
     "output_type": "execute_result"
    }
   ],
   "source": [
    "#Checking churned column in dataset\n",
    "df_non_null.head()"
   ]
  },
  {
   "cell_type": "markdown",
   "metadata": {
    "colab_type": "text",
    "id": "U4IhomqI-fec"
   },
   "source": [
    "Churned rate"
   ]
  },
  {
   "cell_type": "code",
   "execution_count": 20,
   "metadata": {
    "colab": {
     "base_uri": "https://localhost:8080/",
     "height": 34
    },
    "colab_type": "code",
    "id": "cY0GkGvQ-fed",
    "outputId": "c109b365-1e5d-461a-ff02-c7d1ae1aaddd"
   },
   "outputs": [
    {
     "name": "stdout",
     "output_type": "stream",
     "text": [
      "churned: 17.15%\n"
     ]
    }
   ],
   "source": [
    "#calculate the percentage of the churned user\n",
    "churned_rate = df_non_null['churned'].mean()\n",
    "print (\"churned: {:.2f}%\".format(churned_rate * 100))"
   ]
  },
  {
   "cell_type": "code",
   "execution_count": 21,
   "metadata": {
    "colab": {
     "base_uri": "https://localhost:8080/",
     "height": 275
    },
    "colab_type": "code",
    "id": "ERBarY4c-fef",
    "outputId": "566c0c92-c376-4541-b5f4-6074357b8eb1"
   },
   "outputs": [
    {
     "data": {
      "text/html": [
       "<div>\n",
       "<style scoped>\n",
       "    .dataframe tbody tr th:only-of-type {\n",
       "        vertical-align: middle;\n",
       "    }\n",
       "\n",
       "    .dataframe tbody tr th {\n",
       "        vertical-align: top;\n",
       "    }\n",
       "\n",
       "    .dataframe thead th {\n",
       "        text-align: right;\n",
       "    }\n",
       "</style>\n",
       "<table border=\"1\" class=\"dataframe\">\n",
       "  <thead>\n",
       "    <tr style=\"text-align: right;\">\n",
       "      <th></th>\n",
       "      <th>SubscriberKey</th>\n",
       "      <th>EmailDomain</th>\n",
       "      <th>AccountCreatedDate</th>\n",
       "      <th>ProductType</th>\n",
       "      <th>BilledAmount</th>\n",
       "      <th>StartDate</th>\n",
       "      <th>EndDate</th>\n",
       "      <th>BeginningState</th>\n",
       "      <th>EndingState</th>\n",
       "      <th>TenureMonth</th>\n",
       "      <th>AutoRenewOn</th>\n",
       "      <th>NActiveMonths</th>\n",
       "      <th>NContinuousActiveMonths</th>\n",
       "      <th>MaxContinuousActiveMonths</th>\n",
       "      <th>CountryCode</th>\n",
       "      <th>StartTrial</th>\n",
       "      <th>NPrevChurns</th>\n",
       "      <th>TurnAutoRenewOff</th>\n",
       "      <th>PercActiveDay</th>\n",
       "      <th>PercOfflineView</th>\n",
       "      <th>DaysSinceLastLogin</th>\n",
       "      <th>ViewMinPerDay</th>\n",
       "      <th>ViewMinPerActiveDay</th>\n",
       "      <th>ClipsPerDay</th>\n",
       "      <th>ClipsPerActiveDay</th>\n",
       "      <th>NCoursesPerDay</th>\n",
       "      <th>CourseCompletionRate</th>\n",
       "      <th>MaxCourseCompletionRate</th>\n",
       "      <th>CoursePillar</th>\n",
       "      <th>churned</th>\n",
       "    </tr>\n",
       "  </thead>\n",
       "  <tbody>\n",
       "    <tr>\n",
       "      <th>13</th>\n",
       "      <td>150</td>\n",
       "      <td>thesmsgroup</td>\n",
       "      <td>6/29/12</td>\n",
       "      <td>PLUS</td>\n",
       "      <td>49.0</td>\n",
       "      <td>7/1/15</td>\n",
       "      <td>8/1/15</td>\n",
       "      <td>Renewal</td>\n",
       "      <td>Ended</td>\n",
       "      <td>37</td>\n",
       "      <td>no</td>\n",
       "      <td>18</td>\n",
       "      <td>19</td>\n",
       "      <td>19</td>\n",
       "      <td>US</td>\n",
       "      <td>0</td>\n",
       "      <td>0</td>\n",
       "      <td>1</td>\n",
       "      <td>0.000000</td>\n",
       "      <td>0.0</td>\n",
       "      <td>18.0</td>\n",
       "      <td>0.000000</td>\n",
       "      <td>0.000000</td>\n",
       "      <td>0.000000</td>\n",
       "      <td>0.000000</td>\n",
       "      <td>0.000000</td>\n",
       "      <td>0.000000</td>\n",
       "      <td>0.000000</td>\n",
       "      <td>None</td>\n",
       "      <td>1</td>\n",
       "    </tr>\n",
       "    <tr>\n",
       "      <th>36</th>\n",
       "      <td>430</td>\n",
       "      <td>gmail</td>\n",
       "      <td>8/14/13</td>\n",
       "      <td>STD</td>\n",
       "      <td>29.0</td>\n",
       "      <td>8/3/15</td>\n",
       "      <td>9/3/15</td>\n",
       "      <td>Renewal</td>\n",
       "      <td>Cancelled</td>\n",
       "      <td>24</td>\n",
       "      <td>no</td>\n",
       "      <td>19</td>\n",
       "      <td>9</td>\n",
       "      <td>9</td>\n",
       "      <td>CH</td>\n",
       "      <td>0</td>\n",
       "      <td>2</td>\n",
       "      <td>1</td>\n",
       "      <td>0.111111</td>\n",
       "      <td>0.0</td>\n",
       "      <td>16.0</td>\n",
       "      <td>2.033333</td>\n",
       "      <td>18.300000</td>\n",
       "      <td>0.333333</td>\n",
       "      <td>3.000000</td>\n",
       "      <td>0.111111</td>\n",
       "      <td>0.059447</td>\n",
       "      <td>0.111579</td>\n",
       "      <td>Software Development</td>\n",
       "      <td>1</td>\n",
       "    </tr>\n",
       "    <tr>\n",
       "      <th>45</th>\n",
       "      <td>495</td>\n",
       "      <td>gmail</td>\n",
       "      <td>12/12/13</td>\n",
       "      <td>STD</td>\n",
       "      <td>29.0</td>\n",
       "      <td>3/27/15</td>\n",
       "      <td>4/27/15</td>\n",
       "      <td>Renewal</td>\n",
       "      <td>Cancelled</td>\n",
       "      <td>16</td>\n",
       "      <td>no</td>\n",
       "      <td>3</td>\n",
       "      <td>2</td>\n",
       "      <td>2</td>\n",
       "      <td>CA</td>\n",
       "      <td>0</td>\n",
       "      <td>1</td>\n",
       "      <td>1</td>\n",
       "      <td>0.000000</td>\n",
       "      <td>0.0</td>\n",
       "      <td>33.0</td>\n",
       "      <td>0.000000</td>\n",
       "      <td>0.000000</td>\n",
       "      <td>0.000000</td>\n",
       "      <td>0.000000</td>\n",
       "      <td>0.000000</td>\n",
       "      <td>0.000000</td>\n",
       "      <td>0.000000</td>\n",
       "      <td>None</td>\n",
       "      <td>1</td>\n",
       "    </tr>\n",
       "    <tr>\n",
       "      <th>46</th>\n",
       "      <td>495</td>\n",
       "      <td>gmail</td>\n",
       "      <td>12/12/13</td>\n",
       "      <td>PLUS</td>\n",
       "      <td>49.0</td>\n",
       "      <td>5/5/15</td>\n",
       "      <td>6/5/15</td>\n",
       "      <td>Reactivation</td>\n",
       "      <td>Ended</td>\n",
       "      <td>17</td>\n",
       "      <td>yes</td>\n",
       "      <td>4</td>\n",
       "      <td>1</td>\n",
       "      <td>2</td>\n",
       "      <td>CA</td>\n",
       "      <td>0</td>\n",
       "      <td>2</td>\n",
       "      <td>0</td>\n",
       "      <td>0.222222</td>\n",
       "      <td>0.0</td>\n",
       "      <td>14.0</td>\n",
       "      <td>12.001852</td>\n",
       "      <td>54.008333</td>\n",
       "      <td>4.444444</td>\n",
       "      <td>20.000000</td>\n",
       "      <td>0.111111</td>\n",
       "      <td>0.493890</td>\n",
       "      <td>0.574226</td>\n",
       "      <td>Software Development</td>\n",
       "      <td>1</td>\n",
       "    </tr>\n",
       "    <tr>\n",
       "      <th>51</th>\n",
       "      <td>542</td>\n",
       "      <td>outlook</td>\n",
       "      <td>4/9/14</td>\n",
       "      <td>PLUS</td>\n",
       "      <td>24.5</td>\n",
       "      <td>8/17/15</td>\n",
       "      <td>9/18/15</td>\n",
       "      <td>Renewal</td>\n",
       "      <td>Ended</td>\n",
       "      <td>17</td>\n",
       "      <td>no</td>\n",
       "      <td>3</td>\n",
       "      <td>2</td>\n",
       "      <td>2</td>\n",
       "      <td>US</td>\n",
       "      <td>1</td>\n",
       "      <td>2</td>\n",
       "      <td>0</td>\n",
       "      <td>0.736842</td>\n",
       "      <td>0.0</td>\n",
       "      <td>0.0</td>\n",
       "      <td>143.979825</td>\n",
       "      <td>195.401191</td>\n",
       "      <td>33.947368</td>\n",
       "      <td>46.071429</td>\n",
       "      <td>0.684211</td>\n",
       "      <td>0.951275</td>\n",
       "      <td>1.000000</td>\n",
       "      <td>Software Development</td>\n",
       "      <td>1</td>\n",
       "    </tr>\n",
       "  </tbody>\n",
       "</table>\n",
       "</div>"
      ],
      "text/plain": [
       "    SubscriberKey  EmailDomain  ...          CoursePillar churned\n",
       "13            150  thesmsgroup  ...                  None       1\n",
       "36            430        gmail  ...  Software Development       1\n",
       "45            495        gmail  ...                  None       1\n",
       "46            495        gmail  ...  Software Development       1\n",
       "51            542      outlook  ...  Software Development       1\n",
       "\n",
       "[5 rows x 30 columns]"
      ]
     },
     "execution_count": 21,
     "metadata": {
      "tags": []
     },
     "output_type": "execute_result"
    }
   ],
   "source": [
    "# setting up the df with churned column\n",
    "df_churned = df_non_null[df_non_null.churned==1]\n",
    "df_churned.head()"
   ]
  },
  {
   "cell_type": "code",
   "execution_count": 22,
   "metadata": {
    "colab": {
     "base_uri": "https://localhost:8080/",
     "height": 34
    },
    "colab_type": "code",
    "id": "iXX1DrX7-feh",
    "outputId": "61074e91-f146-46a4-9332-182d58909597"
   },
   "outputs": [
    {
     "data": {
      "text/plain": [
       "7144"
      ]
     },
     "execution_count": 22,
     "metadata": {
      "tags": []
     },
     "output_type": "execute_result"
    }
   ],
   "source": [
    "# Total number of users who cancelled or ended service\n",
    "df_churned.SubscriberKey.nunique()"
   ]
  },
  {
   "cell_type": "markdown",
   "metadata": {
    "colab_type": "text",
    "id": "-bYN8M2Z-fek"
   },
   "source": [
    "##### Explore Data\n",
    "In this section, data exploration will be done comparing churned users with not churned users, inspecting if there are any big differences between the two groups.\n",
    "\n",
    "The following columns will be examined:<br><br>\n",
    "ProductType : Standard and Plus product<br><br>\n",
    "BeginningState :initial state<br><br>\n",
    "Country Code : different country comparison<br><br>\n",
    "StartTrial : Whether start with trial<br><br>\n",
    "CoursePillar : general classification of course<br><br>\n",
    "AutoRenewOn: The auto subscription preference<br><br>\n",
    "TurnAutoRenewOff: Whether the customer turn off auto renewal"
   ]
  },
  {
   "cell_type": "code",
   "execution_count": 23,
   "metadata": {
    "colab": {
     "base_uri": "https://localhost:8080/",
     "height": 119
    },
    "colab_type": "code",
    "id": "Ths_QFr--fel",
    "outputId": "42616c00-8b66-41c3-c537-4b358c9eae04"
   },
   "outputs": [
    {
     "name": "stderr",
     "output_type": "stream",
     "text": [
      "/usr/local/lib/python3.6/dist-packages/ipykernel_launcher.py:1: SettingWithCopyWarning: \n",
      "A value is trying to be set on a copy of a slice from a DataFrame.\n",
      "Try using .loc[row_indexer,col_indexer] = value instead\n",
      "\n",
      "See the caveats in the documentation: http://pandas.pydata.org/pandas-docs/stable/user_guide/indexing.html#returning-a-view-versus-a-copy\n",
      "  \"\"\"Entry point for launching an IPython kernel.\n"
     ]
    }
   ],
   "source": [
    "# Define the churn column value into not churn or churn\n",
    "df_non_null['churn'] = df_non_null['churned'].apply(lambda x : 'churned' if x ==1 else 'unchurned' )"
   ]
  },
  {
   "cell_type": "code",
   "execution_count": 24,
   "metadata": {
    "colab": {
     "base_uri": "https://localhost:8080/",
     "height": 292
    },
    "colab_type": "code",
    "id": "lGdWT0Z9-fen",
    "outputId": "6aa1b60e-5622-4f77-8c9c-bfeba049809c"
   },
   "outputs": [
    {
     "data": {
      "text/html": [
       "<div>\n",
       "<style scoped>\n",
       "    .dataframe tbody tr th:only-of-type {\n",
       "        vertical-align: middle;\n",
       "    }\n",
       "\n",
       "    .dataframe tbody tr th {\n",
       "        vertical-align: top;\n",
       "    }\n",
       "\n",
       "    .dataframe thead th {\n",
       "        text-align: right;\n",
       "    }\n",
       "</style>\n",
       "<table border=\"1\" class=\"dataframe\">\n",
       "  <thead>\n",
       "    <tr style=\"text-align: right;\">\n",
       "      <th></th>\n",
       "      <th>SubscriberKey</th>\n",
       "      <th>EmailDomain</th>\n",
       "      <th>AccountCreatedDate</th>\n",
       "      <th>ProductType</th>\n",
       "      <th>BilledAmount</th>\n",
       "      <th>StartDate</th>\n",
       "      <th>EndDate</th>\n",
       "      <th>BeginningState</th>\n",
       "      <th>EndingState</th>\n",
       "      <th>TenureMonth</th>\n",
       "      <th>AutoRenewOn</th>\n",
       "      <th>NActiveMonths</th>\n",
       "      <th>NContinuousActiveMonths</th>\n",
       "      <th>MaxContinuousActiveMonths</th>\n",
       "      <th>CountryCode</th>\n",
       "      <th>StartTrial</th>\n",
       "      <th>NPrevChurns</th>\n",
       "      <th>TurnAutoRenewOff</th>\n",
       "      <th>PercActiveDay</th>\n",
       "      <th>PercOfflineView</th>\n",
       "      <th>DaysSinceLastLogin</th>\n",
       "      <th>ViewMinPerDay</th>\n",
       "      <th>ViewMinPerActiveDay</th>\n",
       "      <th>ClipsPerDay</th>\n",
       "      <th>ClipsPerActiveDay</th>\n",
       "      <th>NCoursesPerDay</th>\n",
       "      <th>CourseCompletionRate</th>\n",
       "      <th>MaxCourseCompletionRate</th>\n",
       "      <th>CoursePillar</th>\n",
       "      <th>churned</th>\n",
       "      <th>churn</th>\n",
       "    </tr>\n",
       "  </thead>\n",
       "  <tbody>\n",
       "    <tr>\n",
       "      <th>0</th>\n",
       "      <td>5</td>\n",
       "      <td>social-media-productions</td>\n",
       "      <td>10/10/13</td>\n",
       "      <td>STD</td>\n",
       "      <td>29.00</td>\n",
       "      <td>4/17/15</td>\n",
       "      <td>5/17/15</td>\n",
       "      <td>Renewal</td>\n",
       "      <td>Renewed</td>\n",
       "      <td>19</td>\n",
       "      <td>yes</td>\n",
       "      <td>19</td>\n",
       "      <td>19</td>\n",
       "      <td>19</td>\n",
       "      <td>US</td>\n",
       "      <td>0</td>\n",
       "      <td>0</td>\n",
       "      <td>0</td>\n",
       "      <td>0.176471</td>\n",
       "      <td>0.0</td>\n",
       "      <td>13.0</td>\n",
       "      <td>10.737255</td>\n",
       "      <td>60.844444</td>\n",
       "      <td>6.941176</td>\n",
       "      <td>39.333333</td>\n",
       "      <td>0.176471</td>\n",
       "      <td>0.212801</td>\n",
       "      <td>0.419307</td>\n",
       "      <td>Software Development</td>\n",
       "      <td>0</td>\n",
       "      <td>unchurned</td>\n",
       "    </tr>\n",
       "    <tr>\n",
       "      <th>1</th>\n",
       "      <td>13</td>\n",
       "      <td>hotmail</td>\n",
       "      <td>4/16/10</td>\n",
       "      <td>PLUS</td>\n",
       "      <td>16.81</td>\n",
       "      <td>6/30/15</td>\n",
       "      <td>8/1/15</td>\n",
       "      <td>Reactivation</td>\n",
       "      <td>Renewed</td>\n",
       "      <td>64</td>\n",
       "      <td>yes</td>\n",
       "      <td>3</td>\n",
       "      <td>8</td>\n",
       "      <td>8</td>\n",
       "      <td>CA</td>\n",
       "      <td>0</td>\n",
       "      <td>2</td>\n",
       "      <td>0</td>\n",
       "      <td>0.473684</td>\n",
       "      <td>0.0</td>\n",
       "      <td>3.0</td>\n",
       "      <td>10.529825</td>\n",
       "      <td>22.229630</td>\n",
       "      <td>3.368421</td>\n",
       "      <td>7.111111</td>\n",
       "      <td>0.157895</td>\n",
       "      <td>0.190862</td>\n",
       "      <td>0.404102</td>\n",
       "      <td>Software Development</td>\n",
       "      <td>0</td>\n",
       "      <td>unchurned</td>\n",
       "    </tr>\n",
       "    <tr>\n",
       "      <th>2</th>\n",
       "      <td>28</td>\n",
       "      <td>hotmail</td>\n",
       "      <td>9/6/12</td>\n",
       "      <td>STD</td>\n",
       "      <td>29.00</td>\n",
       "      <td>4/28/15</td>\n",
       "      <td>5/28/15</td>\n",
       "      <td>Renewal</td>\n",
       "      <td>Renewed</td>\n",
       "      <td>33</td>\n",
       "      <td>yes</td>\n",
       "      <td>25</td>\n",
       "      <td>4</td>\n",
       "      <td>21</td>\n",
       "      <td>FO</td>\n",
       "      <td>0</td>\n",
       "      <td>1</td>\n",
       "      <td>0</td>\n",
       "      <td>0.000000</td>\n",
       "      <td>0.0</td>\n",
       "      <td>29.0</td>\n",
       "      <td>0.000000</td>\n",
       "      <td>0.000000</td>\n",
       "      <td>0.000000</td>\n",
       "      <td>0.000000</td>\n",
       "      <td>0.000000</td>\n",
       "      <td>0.000000</td>\n",
       "      <td>0.000000</td>\n",
       "      <td>None</td>\n",
       "      <td>0</td>\n",
       "      <td>unchurned</td>\n",
       "    </tr>\n",
       "    <tr>\n",
       "      <th>3</th>\n",
       "      <td>51</td>\n",
       "      <td>gmail</td>\n",
       "      <td>12/8/13</td>\n",
       "      <td>STD</td>\n",
       "      <td>29.00</td>\n",
       "      <td>5/11/15</td>\n",
       "      <td>6/11/15</td>\n",
       "      <td>Renewal</td>\n",
       "      <td>Renewed</td>\n",
       "      <td>18</td>\n",
       "      <td>yes</td>\n",
       "      <td>13</td>\n",
       "      <td>10</td>\n",
       "      <td>10</td>\n",
       "      <td>US</td>\n",
       "      <td>0</td>\n",
       "      <td>1</td>\n",
       "      <td>0</td>\n",
       "      <td>0.055556</td>\n",
       "      <td>0.0</td>\n",
       "      <td>11.0</td>\n",
       "      <td>1.068519</td>\n",
       "      <td>19.233333</td>\n",
       "      <td>0.277778</td>\n",
       "      <td>5.000000</td>\n",
       "      <td>0.055556</td>\n",
       "      <td>0.116957</td>\n",
       "      <td>0.116957</td>\n",
       "      <td>Software Development</td>\n",
       "      <td>0</td>\n",
       "      <td>unchurned</td>\n",
       "    </tr>\n",
       "    <tr>\n",
       "      <th>4</th>\n",
       "      <td>56</td>\n",
       "      <td>live</td>\n",
       "      <td>7/11/13</td>\n",
       "      <td>PLUS</td>\n",
       "      <td>49.00</td>\n",
       "      <td>8/23/15</td>\n",
       "      <td>9/23/15</td>\n",
       "      <td>Renewal</td>\n",
       "      <td>Renewed</td>\n",
       "      <td>26</td>\n",
       "      <td>yes</td>\n",
       "      <td>26</td>\n",
       "      <td>26</td>\n",
       "      <td>26</td>\n",
       "      <td>US</td>\n",
       "      <td>0</td>\n",
       "      <td>0</td>\n",
       "      <td>0</td>\n",
       "      <td>0.055556</td>\n",
       "      <td>0.0</td>\n",
       "      <td>2.0</td>\n",
       "      <td>1.725926</td>\n",
       "      <td>31.066667</td>\n",
       "      <td>0.333333</td>\n",
       "      <td>6.000000</td>\n",
       "      <td>0.055556</td>\n",
       "      <td>0.139678</td>\n",
       "      <td>0.139678</td>\n",
       "      <td>IT Pro</td>\n",
       "      <td>0</td>\n",
       "      <td>unchurned</td>\n",
       "    </tr>\n",
       "  </tbody>\n",
       "</table>\n",
       "</div>"
      ],
      "text/plain": [
       "   SubscriberKey               EmailDomain  ... churned      churn\n",
       "0              5  social-media-productions  ...       0  unchurned\n",
       "1             13                   hotmail  ...       0  unchurned\n",
       "2             28                   hotmail  ...       0  unchurned\n",
       "3             51                     gmail  ...       0  unchurned\n",
       "4             56                      live  ...       0  unchurned\n",
       "\n",
       "[5 rows x 31 columns]"
      ]
     },
     "execution_count": 24,
     "metadata": {
      "tags": []
     },
     "output_type": "execute_result"
    }
   ],
   "source": [
    "df_non_null.head()"
   ]
  },
  {
   "cell_type": "markdown",
   "metadata": {
    "colab_type": "text",
    "id": "DonymYxE-feq"
   },
   "source": [
    "##### ProductType"
   ]
  },
  {
   "cell_type": "code",
   "execution_count": 25,
   "metadata": {
    "colab": {
     "base_uri": "https://localhost:8080/",
     "height": 204
    },
    "colab_type": "code",
    "id": "iW_DS_gL-feq",
    "outputId": "dba889e0-7104-4552-f524-e52023ba3574"
   },
   "outputs": [
    {
     "data": {
      "text/html": [
       "<div>\n",
       "<style scoped>\n",
       "    .dataframe tbody tr th:only-of-type {\n",
       "        vertical-align: middle;\n",
       "    }\n",
       "\n",
       "    .dataframe tbody tr th {\n",
       "        vertical-align: top;\n",
       "    }\n",
       "\n",
       "    .dataframe thead th {\n",
       "        text-align: right;\n",
       "    }\n",
       "</style>\n",
       "<table border=\"1\" class=\"dataframe\">\n",
       "  <thead>\n",
       "    <tr style=\"text-align: right;\">\n",
       "      <th></th>\n",
       "      <th>ProductType</th>\n",
       "      <th>churn</th>\n",
       "    </tr>\n",
       "  </thead>\n",
       "  <tbody>\n",
       "    <tr>\n",
       "      <th>0</th>\n",
       "      <td>STD</td>\n",
       "      <td>unchurned</td>\n",
       "    </tr>\n",
       "    <tr>\n",
       "      <th>1</th>\n",
       "      <td>PLUS</td>\n",
       "      <td>unchurned</td>\n",
       "    </tr>\n",
       "    <tr>\n",
       "      <th>2</th>\n",
       "      <td>STD</td>\n",
       "      <td>unchurned</td>\n",
       "    </tr>\n",
       "    <tr>\n",
       "      <th>3</th>\n",
       "      <td>STD</td>\n",
       "      <td>unchurned</td>\n",
       "    </tr>\n",
       "    <tr>\n",
       "      <th>4</th>\n",
       "      <td>PLUS</td>\n",
       "      <td>unchurned</td>\n",
       "    </tr>\n",
       "  </tbody>\n",
       "</table>\n",
       "</div>"
      ],
      "text/plain": [
       "  ProductType      churn\n",
       "0         STD  unchurned\n",
       "1        PLUS  unchurned\n",
       "2         STD  unchurned\n",
       "3         STD  unchurned\n",
       "4        PLUS  unchurned"
      ]
     },
     "execution_count": 25,
     "metadata": {
      "tags": []
     },
     "output_type": "execute_result"
    }
   ],
   "source": [
    "# comparing the churn rated in different product type\n",
    "df_product_type = df_non_null[['ProductType','churn']]\n",
    "df_product_type.head()"
   ]
  },
  {
   "cell_type": "code",
   "execution_count": 26,
   "metadata": {
    "colab": {
     "base_uri": "https://localhost:8080/",
     "height": 279
    },
    "colab_type": "code",
    "id": "6lY7UiLX-fet",
    "outputId": "527fefc2-1b36-422b-f7ac-987e3e167919"
   },
   "outputs": [
    {
     "data": {
      "image/png": "[encoded data removed]",
      "text/plain": [
       "<Figure size 432x288 with 1 Axes>"
      ]
     },
     "metadata": {
      "tags": []
     },
     "output_type": "display_data"
    }
   ],
   "source": [
    "sns.countplot(x=\"ProductType\", hue=\"churn\", data=df_product_type);"
   ]
  },
  {
   "cell_type": "markdown",
   "metadata": {
    "colab_type": "text",
    "id": "ECd4z05OnLeE"
   },
   "source": [
    "It is obvious that the standard product type will have higher churned rate"
   ]
  },
  {
   "cell_type": "markdown",
   "metadata": {
    "colab_type": "text",
    "id": "2ssFHZLY-few"
   },
   "source": [
    "##### BeginningState"
   ]
  },
  {
   "cell_type": "code",
   "execution_count": 27,
   "metadata": {
    "colab": {
     "base_uri": "https://localhost:8080/",
     "height": 204
    },
    "colab_type": "code",
    "id": "TwED7aU2-fex",
    "outputId": "b158b253-1bf0-40f5-d000-cbc3a0d25c35"
   },
   "outputs": [
    {
     "data": {
      "text/html": [
       "<div>\n",
       "<style scoped>\n",
       "    .dataframe tbody tr th:only-of-type {\n",
       "        vertical-align: middle;\n",
       "    }\n",
       "\n",
       "    .dataframe tbody tr th {\n",
       "        vertical-align: top;\n",
       "    }\n",
       "\n",
       "    .dataframe thead th {\n",
       "        text-align: right;\n",
       "    }\n",
       "</style>\n",
       "<table border=\"1\" class=\"dataframe\">\n",
       "  <thead>\n",
       "    <tr style=\"text-align: right;\">\n",
       "      <th></th>\n",
       "      <th>BeginningState</th>\n",
       "      <th>churn</th>\n",
       "    </tr>\n",
       "  </thead>\n",
       "  <tbody>\n",
       "    <tr>\n",
       "      <th>0</th>\n",
       "      <td>Renewal</td>\n",
       "      <td>unchurned</td>\n",
       "    </tr>\n",
       "    <tr>\n",
       "      <th>1</th>\n",
       "      <td>Reactivation</td>\n",
       "      <td>unchurned</td>\n",
       "    </tr>\n",
       "    <tr>\n",
       "      <th>2</th>\n",
       "      <td>Renewal</td>\n",
       "      <td>unchurned</td>\n",
       "    </tr>\n",
       "    <tr>\n",
       "      <th>3</th>\n",
       "      <td>Renewal</td>\n",
       "      <td>unchurned</td>\n",
       "    </tr>\n",
       "    <tr>\n",
       "      <th>4</th>\n",
       "      <td>Renewal</td>\n",
       "      <td>unchurned</td>\n",
       "    </tr>\n",
       "  </tbody>\n",
       "</table>\n",
       "</div>"
      ],
      "text/plain": [
       "  BeginningState      churn\n",
       "0        Renewal  unchurned\n",
       "1   Reactivation  unchurned\n",
       "2        Renewal  unchurned\n",
       "3        Renewal  unchurned\n",
       "4        Renewal  unchurned"
      ]
     },
     "execution_count": 27,
     "metadata": {
      "tags": []
     },
     "output_type": "execute_result"
    }
   ],
   "source": [
    "df_BeginningState = df_non_null[['BeginningState','churn']]\n",
    "df_BeginningState.head()"
   ]
  },
  {
   "cell_type": "code",
   "execution_count": 28,
   "metadata": {
    "colab": {
     "base_uri": "https://localhost:8080/",
     "height": 279
    },
    "colab_type": "code",
    "id": "felKPWBi-fe0",
    "outputId": "29c0e95e-b414-4b15-e7ca-b5832b1706ad"
   },
   "outputs": [
    {
     "data": {
      "image/png": "[encoded data removed]",
      "text/plain": [
       "<Figure size 432x288 with 1 Axes>"
      ]
     },
     "metadata": {
      "tags": []
     },
     "output_type": "display_data"
    }
   ],
   "source": [
    "sns.countplot(x=\"BeginningState\", hue=\"churn\", data=df_BeginningState);"
   ]
  },
  {
   "cell_type": "markdown",
   "metadata": {
    "colab_type": "text",
    "id": "Fqu6gZkLnTSo"
   },
   "source": [
    "The renewal customers have lower chance to churn compared with order customers"
   ]
  },
  {
   "cell_type": "markdown",
   "metadata": {
    "colab_type": "text",
    "id": "bf3wFR6U-fe4"
   },
   "source": [
    "##### CoursePillar"
   ]
  },
  {
   "cell_type": "code",
   "execution_count": 29,
   "metadata": {
    "colab": {
     "base_uri": "https://localhost:8080/",
     "height": 204
    },
    "colab_type": "code",
    "id": "pUw1jvug-fe5",
    "outputId": "e0206b41-521e-4d71-e3d8-3f960ecd5bc2"
   },
   "outputs": [
    {
     "data": {
      "text/html": [
       "<div>\n",
       "<style scoped>\n",
       "    .dataframe tbody tr th:only-of-type {\n",
       "        vertical-align: middle;\n",
       "    }\n",
       "\n",
       "    .dataframe tbody tr th {\n",
       "        vertical-align: top;\n",
       "    }\n",
       "\n",
       "    .dataframe thead th {\n",
       "        text-align: right;\n",
       "    }\n",
       "</style>\n",
       "<table border=\"1\" class=\"dataframe\">\n",
       "  <thead>\n",
       "    <tr style=\"text-align: right;\">\n",
       "      <th></th>\n",
       "      <th>CoursePillar</th>\n",
       "      <th>churn</th>\n",
       "    </tr>\n",
       "  </thead>\n",
       "  <tbody>\n",
       "    <tr>\n",
       "      <th>0</th>\n",
       "      <td>Software Development</td>\n",
       "      <td>unchurned</td>\n",
       "    </tr>\n",
       "    <tr>\n",
       "      <th>1</th>\n",
       "      <td>Software Development</td>\n",
       "      <td>unchurned</td>\n",
       "    </tr>\n",
       "    <tr>\n",
       "      <th>2</th>\n",
       "      <td>None</td>\n",
       "      <td>unchurned</td>\n",
       "    </tr>\n",
       "    <tr>\n",
       "      <th>3</th>\n",
       "      <td>Software Development</td>\n",
       "      <td>unchurned</td>\n",
       "    </tr>\n",
       "    <tr>\n",
       "      <th>4</th>\n",
       "      <td>IT Pro</td>\n",
       "      <td>unchurned</td>\n",
       "    </tr>\n",
       "  </tbody>\n",
       "</table>\n",
       "</div>"
      ],
      "text/plain": [
       "           CoursePillar      churn\n",
       "0  Software Development  unchurned\n",
       "1  Software Development  unchurned\n",
       "2                  None  unchurned\n",
       "3  Software Development  unchurned\n",
       "4                IT Pro  unchurned"
      ]
     },
     "execution_count": 29,
     "metadata": {
      "tags": []
     },
     "output_type": "execute_result"
    }
   ],
   "source": [
    "df_CoursePillar= df_non_null[['CoursePillar','churn']]\n",
    "df_CoursePillar.head()"
   ]
  },
  {
   "cell_type": "code",
   "execution_count": 30,
   "metadata": {
    "colab": {
     "base_uri": "https://localhost:8080/",
     "height": 279
    },
    "colab_type": "code",
    "id": "tnKiGy_R-fe7",
    "outputId": "6cb079f3-9e74-49fc-937b-4704824230a3"
   },
   "outputs": [
    {
     "data": {
      "image/png": "[encoded data removed]",
      "text/plain": [
       "<Figure size 432x288 with 1 Axes>"
      ]
     },
     "metadata": {
      "tags": []
     },
     "output_type": "display_data"
    }
   ],
   "source": [
    "sns.countplot(x=\"CoursePillar\", hue=\"churn\", data=df_CoursePillar);"
   ]
  },
  {
   "cell_type": "markdown",
   "metadata": {
    "colab_type": "text",
    "id": "xtdvIDpNncPu"
   },
   "source": [
    "The creative part is at most risk of customer churned"
   ]
  },
  {
   "cell_type": "markdown",
   "metadata": {
    "colab_type": "text",
    "id": "JUQiRdVW-fe9"
   },
   "source": [
    "##### StartTrial"
   ]
  },
  {
   "cell_type": "code",
   "execution_count": 31,
   "metadata": {
    "colab": {
     "base_uri": "https://localhost:8080/",
     "height": 204
    },
    "colab_type": "code",
    "id": "xvcfv27x-fe-",
    "outputId": "4c3482c8-2b47-4269-b88f-ea1cd7251ead"
   },
   "outputs": [
    {
     "data": {
      "text/html": [
       "<div>\n",
       "<style scoped>\n",
       "    .dataframe tbody tr th:only-of-type {\n",
       "        vertical-align: middle;\n",
       "    }\n",
       "\n",
       "    .dataframe tbody tr th {\n",
       "        vertical-align: top;\n",
       "    }\n",
       "\n",
       "    .dataframe thead th {\n",
       "        text-align: right;\n",
       "    }\n",
       "</style>\n",
       "<table border=\"1\" class=\"dataframe\">\n",
       "  <thead>\n",
       "    <tr style=\"text-align: right;\">\n",
       "      <th></th>\n",
       "      <th>StartTrial</th>\n",
       "      <th>churn</th>\n",
       "    </tr>\n",
       "  </thead>\n",
       "  <tbody>\n",
       "    <tr>\n",
       "      <th>0</th>\n",
       "      <td>0</td>\n",
       "      <td>unchurned</td>\n",
       "    </tr>\n",
       "    <tr>\n",
       "      <th>1</th>\n",
       "      <td>0</td>\n",
       "      <td>unchurned</td>\n",
       "    </tr>\n",
       "    <tr>\n",
       "      <th>2</th>\n",
       "      <td>0</td>\n",
       "      <td>unchurned</td>\n",
       "    </tr>\n",
       "    <tr>\n",
       "      <th>3</th>\n",
       "      <td>0</td>\n",
       "      <td>unchurned</td>\n",
       "    </tr>\n",
       "    <tr>\n",
       "      <th>4</th>\n",
       "      <td>0</td>\n",
       "      <td>unchurned</td>\n",
       "    </tr>\n",
       "  </tbody>\n",
       "</table>\n",
       "</div>"
      ],
      "text/plain": [
       "   StartTrial      churn\n",
       "0           0  unchurned\n",
       "1           0  unchurned\n",
       "2           0  unchurned\n",
       "3           0  unchurned\n",
       "4           0  unchurned"
      ]
     },
     "execution_count": 31,
     "metadata": {
      "tags": []
     },
     "output_type": "execute_result"
    }
   ],
   "source": [
    "# 0 stands for not starting with trial, 1 stand for starting with trial\n",
    "df_StartTrial= df_non_null[['StartTrial','churn']]\n",
    "df_StartTrial.head()"
   ]
  },
  {
   "cell_type": "code",
   "execution_count": 32,
   "metadata": {
    "colab": {
     "base_uri": "https://localhost:8080/",
     "height": 279
    },
    "colab_type": "code",
    "id": "hFYn7INI-ffA",
    "outputId": "3451e953-17b0-402f-95d3-7b2048848fa2"
   },
   "outputs": [
    {
     "data": {
      "image/png": "[encoded data removed]",
      "text/plain": [
       "<Figure size 432x288 with 1 Axes>"
      ]
     },
     "metadata": {
      "tags": []
     },
     "output_type": "display_data"
    }
   ],
   "source": [
    "sns.countplot(x=\"StartTrial\", hue=\"churn\", data=df_StartTrial);"
   ]
  },
  {
   "cell_type": "markdown",
   "metadata": {
    "colab_type": "text",
    "id": "B95WOMShnpvV"
   },
   "source": [
    "The start trial options will have more probability to obtain users."
   ]
  },
  {
   "cell_type": "markdown",
   "metadata": {
    "colab_type": "text",
    "id": "Iz8cDcN0-ffD"
   },
   "source": [
    "##### AutoRenew Preference"
   ]
  },
  {
   "cell_type": "code",
   "execution_count": 33,
   "metadata": {
    "colab": {
     "base_uri": "https://localhost:8080/",
     "height": 204
    },
    "colab_type": "code",
    "id": "-pnyaJjy-ffD",
    "outputId": "d68d5961-6422-42b4-baea-7398bfc006c2"
   },
   "outputs": [
    {
     "data": {
      "text/html": [
       "<div>\n",
       "<style scoped>\n",
       "    .dataframe tbody tr th:only-of-type {\n",
       "        vertical-align: middle;\n",
       "    }\n",
       "\n",
       "    .dataframe tbody tr th {\n",
       "        vertical-align: top;\n",
       "    }\n",
       "\n",
       "    .dataframe thead th {\n",
       "        text-align: right;\n",
       "    }\n",
       "</style>\n",
       "<table border=\"1\" class=\"dataframe\">\n",
       "  <thead>\n",
       "    <tr style=\"text-align: right;\">\n",
       "      <th></th>\n",
       "      <th>AutoRenewOn</th>\n",
       "      <th>churn</th>\n",
       "    </tr>\n",
       "  </thead>\n",
       "  <tbody>\n",
       "    <tr>\n",
       "      <th>0</th>\n",
       "      <td>yes</td>\n",
       "      <td>unchurned</td>\n",
       "    </tr>\n",
       "    <tr>\n",
       "      <th>1</th>\n",
       "      <td>yes</td>\n",
       "      <td>unchurned</td>\n",
       "    </tr>\n",
       "    <tr>\n",
       "      <th>2</th>\n",
       "      <td>yes</td>\n",
       "      <td>unchurned</td>\n",
       "    </tr>\n",
       "    <tr>\n",
       "      <th>3</th>\n",
       "      <td>yes</td>\n",
       "      <td>unchurned</td>\n",
       "    </tr>\n",
       "    <tr>\n",
       "      <th>4</th>\n",
       "      <td>yes</td>\n",
       "      <td>unchurned</td>\n",
       "    </tr>\n",
       "  </tbody>\n",
       "</table>\n",
       "</div>"
      ],
      "text/plain": [
       "  AutoRenewOn      churn\n",
       "0         yes  unchurned\n",
       "1         yes  unchurned\n",
       "2         yes  unchurned\n",
       "3         yes  unchurned\n",
       "4         yes  unchurned"
      ]
     },
     "execution_count": 33,
     "metadata": {
      "tags": []
     },
     "output_type": "execute_result"
    }
   ],
   "source": [
    "df_AutoRenewOn= df_non_null[['AutoRenewOn','churn']]\n",
    "df_AutoRenewOn.head()"
   ]
  },
  {
   "cell_type": "code",
   "execution_count": 34,
   "metadata": {
    "colab": {
     "base_uri": "https://localhost:8080/",
     "height": 279
    },
    "colab_type": "code",
    "id": "FRLRQpps-ffF",
    "outputId": "7bf4dce2-18e4-4982-969a-94049210760e"
   },
   "outputs": [
    {
     "data": {
      "image/png": "[encoded data removed]",
      "text/plain": [
       "<Figure size 432x288 with 1 Axes>"
      ]
     },
     "metadata": {
      "tags": []
     },
     "output_type": "display_data"
    }
   ],
   "source": [
    "sns.countplot(x=\"AutoRenewOn\", hue=\"churn\", data=df_AutoRenewOn);"
   ]
  },
  {
   "cell_type": "markdown",
   "metadata": {
    "colab_type": "text",
    "id": "4KAUc1nHn5Q7"
   },
   "source": [
    "Turning on the AutoRew will obtain the subscribers."
   ]
  },
  {
   "cell_type": "markdown",
   "metadata": {
    "colab_type": "text",
    "id": "tWJ6JZPW-ffH"
   },
   "source": [
    "##### TurnAutoRenewOff"
   ]
  },
  {
   "cell_type": "code",
   "execution_count": 35,
   "metadata": {
    "colab": {
     "base_uri": "https://localhost:8080/",
     "height": 204
    },
    "colab_type": "code",
    "id": "SBJfUkRf-ffI",
    "outputId": "6847bd5b-de0d-4c53-9764-7eef4449d08a"
   },
   "outputs": [
    {
     "data": {
      "text/html": [
       "<div>\n",
       "<style scoped>\n",
       "    .dataframe tbody tr th:only-of-type {\n",
       "        vertical-align: middle;\n",
       "    }\n",
       "\n",
       "    .dataframe tbody tr th {\n",
       "        vertical-align: top;\n",
       "    }\n",
       "\n",
       "    .dataframe thead th {\n",
       "        text-align: right;\n",
       "    }\n",
       "</style>\n",
       "<table border=\"1\" class=\"dataframe\">\n",
       "  <thead>\n",
       "    <tr style=\"text-align: right;\">\n",
       "      <th></th>\n",
       "      <th>TurnAutoRenewOff</th>\n",
       "      <th>churn</th>\n",
       "    </tr>\n",
       "  </thead>\n",
       "  <tbody>\n",
       "    <tr>\n",
       "      <th>0</th>\n",
       "      <td>0</td>\n",
       "      <td>unchurned</td>\n",
       "    </tr>\n",
       "    <tr>\n",
       "      <th>1</th>\n",
       "      <td>0</td>\n",
       "      <td>unchurned</td>\n",
       "    </tr>\n",
       "    <tr>\n",
       "      <th>2</th>\n",
       "      <td>0</td>\n",
       "      <td>unchurned</td>\n",
       "    </tr>\n",
       "    <tr>\n",
       "      <th>3</th>\n",
       "      <td>0</td>\n",
       "      <td>unchurned</td>\n",
       "    </tr>\n",
       "    <tr>\n",
       "      <th>4</th>\n",
       "      <td>0</td>\n",
       "      <td>unchurned</td>\n",
       "    </tr>\n",
       "  </tbody>\n",
       "</table>\n",
       "</div>"
      ],
      "text/plain": [
       "   TurnAutoRenewOff      churn\n",
       "0                 0  unchurned\n",
       "1                 0  unchurned\n",
       "2                 0  unchurned\n",
       "3                 0  unchurned\n",
       "4                 0  unchurned"
      ]
     },
     "execution_count": 35,
     "metadata": {
      "tags": []
     },
     "output_type": "execute_result"
    }
   ],
   "source": [
    "# 0 stands for yes, 1 stand for no\n",
    "df_TurnAutoRenewOff= df_non_null[['TurnAutoRenewOff','churn']]\n",
    "df_TurnAutoRenewOff.head()"
   ]
  },
  {
   "cell_type": "code",
   "execution_count": 36,
   "metadata": {
    "colab": {
     "base_uri": "https://localhost:8080/",
     "height": 279
    },
    "colab_type": "code",
    "id": "o8VJGc9F-ffL",
    "outputId": "025dbd36-7ef8-4aec-a833-47380671f0cd"
   },
   "outputs": [
    {
     "data": {
      "image/png": "[encoded data removed]",
      "text/plain": [
       "<Figure size 432x288 with 1 Axes>"
      ]
     },
     "metadata": {
      "tags": []
     },
     "output_type": "display_data"
    }
   ],
   "source": [
    "sns.countplot(x=\"TurnAutoRenewOff\", hue=\"churn\", data=df_TurnAutoRenewOff);"
   ]
  },
  {
   "cell_type": "markdown",
   "metadata": {
    "colab_type": "text",
    "id": "HXqnouo_n7AL"
   },
   "source": [
    "Same conclusion as above"
   ]
  },
  {
   "cell_type": "markdown",
   "metadata": {
    "colab_type": "text",
    "id": "AwoZWsO_-ffR"
   },
   "source": [
    "## <a class=\"anchor\" id=\"Modeling\">Part III : Modeling</a>\n",
    "In the modeling section, servale tasks will be perfomed for building models. Several machine learning models will be conducted and the best suited model will be decided based on the performance results.<br>\n",
    "\n",
    "  a.Logistic Regression<br>\n",
    "  b.Random Forest classifier<br>\n",
    "  c.PCA<br>\n",
    "  d.binary classification model with XGBoost"
   ]
  },
  {
   "cell_type": "markdown",
   "metadata": {
    "colab_type": "text",
    "id": "_mNvdG46-ffR"
   },
   "source": [
    "### 1. Data Cleaning and Scaling\n",
    "Keep the columns which are integers related"
   ]
  },
  {
   "cell_type": "code",
   "execution_count": 0,
   "metadata": {
    "colab": {},
    "colab_type": "code",
    "id": "QdBV_kcM-ffS"
   },
   "outputs": [],
   "source": [
    "df_modeling = df_non_null[['SubscriberKey','BilledAmount','TenureMonth','NActiveMonths',\n",
    "                           'NContinuousActiveMonths','MaxContinuousActiveMonths','NPrevChurns',\n",
    "                          'PercActiveDay','PercOfflineView','DaysSinceLastLogin','ViewMinPerDay',\n",
    "                          'ViewMinPerActiveDay','ClipsPerDay','ClipsPerActiveDay','NCoursesPerDay',\n",
    "                          'CourseCompletionRate','MaxCourseCompletionRate','churned']]"
   ]
  },
  {
   "cell_type": "code",
   "execution_count": 38,
   "metadata": {
    "colab": {
     "base_uri": "https://localhost:8080/",
     "height": 224
    },
    "colab_type": "code",
    "id": "xCuZEnco-ffU",
    "outputId": "0e27a9e8-ba77-4f88-9679-d8abc091871f"
   },
   "outputs": [
    {
     "data": {
      "text/html": [
       "<div>\n",
       "<style scoped>\n",
       "    .dataframe tbody tr th:only-of-type {\n",
       "        vertical-align: middle;\n",
       "    }\n",
       "\n",
       "    .dataframe tbody tr th {\n",
       "        vertical-align: top;\n",
       "    }\n",
       "\n",
       "    .dataframe thead th {\n",
       "        text-align: right;\n",
       "    }\n",
       "</style>\n",
       "<table border=\"1\" class=\"dataframe\">\n",
       "  <thead>\n",
       "    <tr style=\"text-align: right;\">\n",
       "      <th></th>\n",
       "      <th>SubscriberKey</th>\n",
       "      <th>BilledAmount</th>\n",
       "      <th>TenureMonth</th>\n",
       "      <th>NActiveMonths</th>\n",
       "      <th>NContinuousActiveMonths</th>\n",
       "      <th>MaxContinuousActiveMonths</th>\n",
       "      <th>NPrevChurns</th>\n",
       "      <th>PercActiveDay</th>\n",
       "      <th>PercOfflineView</th>\n",
       "      <th>DaysSinceLastLogin</th>\n",
       "      <th>ViewMinPerDay</th>\n",
       "      <th>ViewMinPerActiveDay</th>\n",
       "      <th>ClipsPerDay</th>\n",
       "      <th>ClipsPerActiveDay</th>\n",
       "      <th>NCoursesPerDay</th>\n",
       "      <th>CourseCompletionRate</th>\n",
       "      <th>MaxCourseCompletionRate</th>\n",
       "      <th>churned</th>\n",
       "    </tr>\n",
       "  </thead>\n",
       "  <tbody>\n",
       "    <tr>\n",
       "      <th>0</th>\n",
       "      <td>5</td>\n",
       "      <td>29.00</td>\n",
       "      <td>19</td>\n",
       "      <td>19</td>\n",
       "      <td>19</td>\n",
       "      <td>19</td>\n",
       "      <td>0</td>\n",
       "      <td>0.176471</td>\n",
       "      <td>0.0</td>\n",
       "      <td>13.0</td>\n",
       "      <td>10.737255</td>\n",
       "      <td>60.844444</td>\n",
       "      <td>6.941176</td>\n",
       "      <td>39.333333</td>\n",
       "      <td>0.176471</td>\n",
       "      <td>0.212801</td>\n",
       "      <td>0.419307</td>\n",
       "      <td>0</td>\n",
       "    </tr>\n",
       "    <tr>\n",
       "      <th>1</th>\n",
       "      <td>13</td>\n",
       "      <td>16.81</td>\n",
       "      <td>64</td>\n",
       "      <td>3</td>\n",
       "      <td>8</td>\n",
       "      <td>8</td>\n",
       "      <td>2</td>\n",
       "      <td>0.473684</td>\n",
       "      <td>0.0</td>\n",
       "      <td>3.0</td>\n",
       "      <td>10.529825</td>\n",
       "      <td>22.229630</td>\n",
       "      <td>3.368421</td>\n",
       "      <td>7.111111</td>\n",
       "      <td>0.157895</td>\n",
       "      <td>0.190862</td>\n",
       "      <td>0.404102</td>\n",
       "      <td>0</td>\n",
       "    </tr>\n",
       "    <tr>\n",
       "      <th>2</th>\n",
       "      <td>28</td>\n",
       "      <td>29.00</td>\n",
       "      <td>33</td>\n",
       "      <td>25</td>\n",
       "      <td>4</td>\n",
       "      <td>21</td>\n",
       "      <td>1</td>\n",
       "      <td>0.000000</td>\n",
       "      <td>0.0</td>\n",
       "      <td>29.0</td>\n",
       "      <td>0.000000</td>\n",
       "      <td>0.000000</td>\n",
       "      <td>0.000000</td>\n",
       "      <td>0.000000</td>\n",
       "      <td>0.000000</td>\n",
       "      <td>0.000000</td>\n",
       "      <td>0.000000</td>\n",
       "      <td>0</td>\n",
       "    </tr>\n",
       "    <tr>\n",
       "      <th>3</th>\n",
       "      <td>51</td>\n",
       "      <td>29.00</td>\n",
       "      <td>18</td>\n",
       "      <td>13</td>\n",
       "      <td>10</td>\n",
       "      <td>10</td>\n",
       "      <td>1</td>\n",
       "      <td>0.055556</td>\n",
       "      <td>0.0</td>\n",
       "      <td>11.0</td>\n",
       "      <td>1.068519</td>\n",
       "      <td>19.233333</td>\n",
       "      <td>0.277778</td>\n",
       "      <td>5.000000</td>\n",
       "      <td>0.055556</td>\n",
       "      <td>0.116957</td>\n",
       "      <td>0.116957</td>\n",
       "      <td>0</td>\n",
       "    </tr>\n",
       "    <tr>\n",
       "      <th>4</th>\n",
       "      <td>56</td>\n",
       "      <td>49.00</td>\n",
       "      <td>26</td>\n",
       "      <td>26</td>\n",
       "      <td>26</td>\n",
       "      <td>26</td>\n",
       "      <td>0</td>\n",
       "      <td>0.055556</td>\n",
       "      <td>0.0</td>\n",
       "      <td>2.0</td>\n",
       "      <td>1.725926</td>\n",
       "      <td>31.066667</td>\n",
       "      <td>0.333333</td>\n",
       "      <td>6.000000</td>\n",
       "      <td>0.055556</td>\n",
       "      <td>0.139678</td>\n",
       "      <td>0.139678</td>\n",
       "      <td>0</td>\n",
       "    </tr>\n",
       "  </tbody>\n",
       "</table>\n",
       "</div>"
      ],
      "text/plain": [
       "   SubscriberKey  BilledAmount  ...  MaxCourseCompletionRate  churned\n",
       "0              5         29.00  ...                 0.419307        0\n",
       "1             13         16.81  ...                 0.404102        0\n",
       "2             28         29.00  ...                 0.000000        0\n",
       "3             51         29.00  ...                 0.116957        0\n",
       "4             56         49.00  ...                 0.139678        0\n",
       "\n",
       "[5 rows x 18 columns]"
      ]
     },
     "execution_count": 38,
     "metadata": {
      "tags": []
     },
     "output_type": "execute_result"
    }
   ],
   "source": [
    "df_modeling.head()"
   ]
  },
  {
   "cell_type": "markdown",
   "metadata": {
    "colab_type": "text",
    "id": "F5uIzV2H-ffX"
   },
   "source": [
    "### 2.Train/Test split\n",
    "Setting up the train and test split to find the accurancy of our model"
   ]
  },
  {
   "cell_type": "code",
   "execution_count": 0,
   "metadata": {
    "colab": {},
    "colab_type": "code",
    "id": "ppUYDchi-ffY"
   },
   "outputs": [],
   "source": [
    "from sklearn.model_selection import train_test_split\n",
    "df_train, df_test = train_test_split(df_modeling,test_size = 0.2, random_state = 0)"
   ]
  },
  {
   "cell_type": "markdown",
   "metadata": {
    "colab_type": "text",
    "id": "AM6ai8xP-ffa"
   },
   "source": [
    "### 3.Build models\n",
    "Import different classification models for predicting the result and churn score for each user"
   ]
  },
  {
   "cell_type": "code",
   "execution_count": 0,
   "metadata": {
    "colab": {},
    "colab_type": "code",
    "id": "1bpgH7jt-ffb"
   },
   "outputs": [],
   "source": [
    "# import model library\n",
    "from sklearn.linear_model import LogisticRegression\n",
    "from sklearn.ensemble import RandomForestClassifier\n",
    "from sklearn.metrics import classification_report"
   ]
  },
  {
   "cell_type": "code",
   "execution_count": 41,
   "metadata": {
    "colab": {
     "base_uri": "https://localhost:8080/",
     "height": 224
    },
    "colab_type": "code",
    "id": "2uAAPR7_-ffe",
    "outputId": "2ee94678-719e-4a42-a03f-374f5af2905b"
   },
   "outputs": [
    {
     "data": {
      "text/html": [
       "<div>\n",
       "<style scoped>\n",
       "    .dataframe tbody tr th:only-of-type {\n",
       "        vertical-align: middle;\n",
       "    }\n",
       "\n",
       "    .dataframe tbody tr th {\n",
       "        vertical-align: top;\n",
       "    }\n",
       "\n",
       "    .dataframe thead th {\n",
       "        text-align: right;\n",
       "    }\n",
       "</style>\n",
       "<table border=\"1\" class=\"dataframe\">\n",
       "  <thead>\n",
       "    <tr style=\"text-align: right;\">\n",
       "      <th></th>\n",
       "      <th>SubscriberKey</th>\n",
       "      <th>BilledAmount</th>\n",
       "      <th>TenureMonth</th>\n",
       "      <th>NActiveMonths</th>\n",
       "      <th>NContinuousActiveMonths</th>\n",
       "      <th>MaxContinuousActiveMonths</th>\n",
       "      <th>NPrevChurns</th>\n",
       "      <th>PercActiveDay</th>\n",
       "      <th>PercOfflineView</th>\n",
       "      <th>DaysSinceLastLogin</th>\n",
       "      <th>ViewMinPerDay</th>\n",
       "      <th>ViewMinPerActiveDay</th>\n",
       "      <th>ClipsPerDay</th>\n",
       "      <th>ClipsPerActiveDay</th>\n",
       "      <th>NCoursesPerDay</th>\n",
       "      <th>CourseCompletionRate</th>\n",
       "      <th>MaxCourseCompletionRate</th>\n",
       "      <th>churned</th>\n",
       "    </tr>\n",
       "  </thead>\n",
       "  <tbody>\n",
       "    <tr>\n",
       "      <th>14624</th>\n",
       "      <td>152883</td>\n",
       "      <td>29.0</td>\n",
       "      <td>28</td>\n",
       "      <td>21</td>\n",
       "      <td>21</td>\n",
       "      <td>21</td>\n",
       "      <td>0</td>\n",
       "      <td>0.666667</td>\n",
       "      <td>0.000000</td>\n",
       "      <td>1.0</td>\n",
       "      <td>47.907407</td>\n",
       "      <td>71.861111</td>\n",
       "      <td>15.222222</td>\n",
       "      <td>22.833333</td>\n",
       "      <td>0.833333</td>\n",
       "      <td>0.256958</td>\n",
       "      <td>0.961958</td>\n",
       "      <td>0</td>\n",
       "    </tr>\n",
       "    <tr>\n",
       "      <th>39597</th>\n",
       "      <td>466063</td>\n",
       "      <td>49.0</td>\n",
       "      <td>3</td>\n",
       "      <td>3</td>\n",
       "      <td>3</td>\n",
       "      <td>3</td>\n",
       "      <td>0</td>\n",
       "      <td>0.111111</td>\n",
       "      <td>0.000000</td>\n",
       "      <td>2.0</td>\n",
       "      <td>10.529630</td>\n",
       "      <td>94.766670</td>\n",
       "      <td>3.888889</td>\n",
       "      <td>35.000000</td>\n",
       "      <td>0.111111</td>\n",
       "      <td>0.999051</td>\n",
       "      <td>1.000527</td>\n",
       "      <td>0</td>\n",
       "    </tr>\n",
       "    <tr>\n",
       "      <th>20994</th>\n",
       "      <td>227316</td>\n",
       "      <td>49.0</td>\n",
       "      <td>12</td>\n",
       "      <td>12</td>\n",
       "      <td>12</td>\n",
       "      <td>12</td>\n",
       "      <td>0</td>\n",
       "      <td>0.111111</td>\n",
       "      <td>1.000000</td>\n",
       "      <td>0.0</td>\n",
       "      <td>0.578704</td>\n",
       "      <td>5.208333</td>\n",
       "      <td>0.166667</td>\n",
       "      <td>1.500000</td>\n",
       "      <td>0.111111</td>\n",
       "      <td>0.018019</td>\n",
       "      <td>0.031843</td>\n",
       "      <td>0</td>\n",
       "    </tr>\n",
       "    <tr>\n",
       "      <th>35227</th>\n",
       "      <td>439570</td>\n",
       "      <td>29.0</td>\n",
       "      <td>2</td>\n",
       "      <td>2</td>\n",
       "      <td>2</td>\n",
       "      <td>2</td>\n",
       "      <td>0</td>\n",
       "      <td>0.117647</td>\n",
       "      <td>0.000000</td>\n",
       "      <td>2.0</td>\n",
       "      <td>1.686275</td>\n",
       "      <td>14.333330</td>\n",
       "      <td>1.117647</td>\n",
       "      <td>9.500000</td>\n",
       "      <td>0.176471</td>\n",
       "      <td>0.041428</td>\n",
       "      <td>0.057740</td>\n",
       "      <td>0</td>\n",
       "    </tr>\n",
       "    <tr>\n",
       "      <th>14110</th>\n",
       "      <td>147640</td>\n",
       "      <td>49.0</td>\n",
       "      <td>14</td>\n",
       "      <td>9</td>\n",
       "      <td>9</td>\n",
       "      <td>9</td>\n",
       "      <td>0</td>\n",
       "      <td>0.388889</td>\n",
       "      <td>0.214018</td>\n",
       "      <td>1.0</td>\n",
       "      <td>12.338889</td>\n",
       "      <td>31.728571</td>\n",
       "      <td>5.666667</td>\n",
       "      <td>14.571429</td>\n",
       "      <td>0.500000</td>\n",
       "      <td>0.133530</td>\n",
       "      <td>0.404692</td>\n",
       "      <td>0</td>\n",
       "    </tr>\n",
       "  </tbody>\n",
       "</table>\n",
       "</div>"
      ],
      "text/plain": [
       "       SubscriberKey  BilledAmount  ...  MaxCourseCompletionRate  churned\n",
       "14624         152883          29.0  ...                 0.961958        0\n",
       "39597         466063          49.0  ...                 1.000527        0\n",
       "20994         227316          49.0  ...                 0.031843        0\n",
       "35227         439570          29.0  ...                 0.057740        0\n",
       "14110         147640          49.0  ...                 0.404692        0\n",
       "\n",
       "[5 rows x 18 columns]"
      ]
     },
     "execution_count": 41,
     "metadata": {
      "tags": []
     },
     "output_type": "execute_result"
    }
   ],
   "source": [
    "#A brief overlook on dataset\n",
    "df_train.head()"
   ]
  },
  {
   "cell_type": "code",
   "execution_count": 0,
   "metadata": {
    "colab": {},
    "colab_type": "code",
    "id": "_ncUzqcC-ffg"
   },
   "outputs": [],
   "source": [
    "# Setting the feature and target values for modeling\n",
    "X_train = df_train.drop(['churned','SubscriberKey'],axis=1)\n",
    "y_train = df_train['churned']\n",
    "X_test = df_test.drop(['churned','SubscriberKey'],axis=1)\n",
    "y_test = df_test['churned']"
   ]
  },
  {
   "cell_type": "markdown",
   "metadata": {
    "colab_type": "text",
    "id": "kKQExZGf-ffi"
   },
   "source": [
    "#### A. Logistic Regression\n",
    "To begin the modeling, I want to use logistic regression since it is very simple and basic algorithm which works well for most cases"
   ]
  },
  {
   "cell_type": "code",
   "execution_count": 43,
   "metadata": {
    "colab": {
     "base_uri": "https://localhost:8080/",
     "height": 238
    },
    "colab_type": "code",
    "id": "0PHGjjX5-ffj",
    "outputId": "8c1f807d-f8a9-49d1-b5c8-9b8dd9cd01f1"
   },
   "outputs": [
    {
     "name": "stderr",
     "output_type": "stream",
     "text": [
      "/usr/local/lib/python3.6/dist-packages/sklearn/linear_model/_logistic.py:940: ConvergenceWarning: lbfgs failed to converge (status=1):\n",
      "STOP: TOTAL NO. of ITERATIONS REACHED LIMIT.\n",
      "\n",
      "Increase the number of iterations (max_iter) or scale the data as shown in:\n",
      "    https://scikit-learn.org/stable/modules/preprocessing.html\n",
      "Please also refer to the documentation for alternative solver options:\n",
      "    https://scikit-learn.org/stable/modules/linear_model.html#logistic-regression\n",
      "  extra_warning_msg=_LOGISTIC_SOLVER_CONVERGENCE_MSG)\n"
     ]
    },
    {
     "data": {
      "text/plain": [
       "LogisticRegression(C=1.0, class_weight=None, dual=False, fit_intercept=True,\n",
       "                   intercept_scaling=1, l1_ratio=None, max_iter=100,\n",
       "                   multi_class='auto', n_jobs=None, penalty='l2',\n",
       "                   random_state=None, solver='lbfgs', tol=0.0001, verbose=0,\n",
       "                   warm_start=False)"
      ]
     },
     "execution_count": 43,
     "metadata": {
      "tags": []
     },
     "output_type": "execute_result"
    }
   ],
   "source": [
    "lr = LogisticRegression()\n",
    "lr.fit(X_train,y_train)"
   ]
  },
  {
   "cell_type": "code",
   "execution_count": 0,
   "metadata": {
    "colab": {},
    "colab_type": "code",
    "id": "mNAE3RwF-ffl"
   },
   "outputs": [],
   "source": [
    "predictions = lr.predict(X_test)"
   ]
  },
  {
   "cell_type": "code",
   "execution_count": 45,
   "metadata": {
    "colab": {
     "base_uri": "https://localhost:8080/",
     "height": 170
    },
    "colab_type": "code",
    "id": "7jPPRSCh-ffo",
    "outputId": "2197d7f2-425f-43ee-97e2-d6c6b4025683"
   },
   "outputs": [
    {
     "name": "stdout",
     "output_type": "stream",
     "text": [
      "              precision    recall  f1-score   support\n",
      "\n",
      "           0       0.84      1.00      0.91      7036\n",
      "           1       0.63      0.04      0.07      1428\n",
      "\n",
      "    accuracy                           0.83      8464\n",
      "   macro avg       0.73      0.52      0.49      8464\n",
      "weighted avg       0.80      0.83      0.77      8464\n",
      "\n"
     ]
    }
   ],
   "source": [
    "print(classification_report(y_test,predictions))"
   ]
  },
  {
   "cell_type": "markdown",
   "metadata": {
    "colab_type": "text",
    "id": "kMI3GIUVoADP"
   },
   "source": [
    "We can interpret the report above as if our model tells us, 100 customers will churn, 63 of it will churn (0.63 precision).  And the accuracy of our model is 83%"
   ]
  },
  {
   "cell_type": "markdown",
   "metadata": {
    "colab_type": "text",
    "id": "jlVNrSLB-ffq"
   },
   "source": [
    "#### B. Random Forest Classifier\n",
    "Since we have more than 10 features in this dataset, the random forest classifier could also be considered as a good predicting options."
   ]
  },
  {
   "cell_type": "code",
   "execution_count": 0,
   "metadata": {
    "colab": {},
    "colab_type": "code",
    "id": "6cQOYVvj-ffr"
   },
   "outputs": [],
   "source": [
    "rfc = RandomForestClassifier(n_estimators =200)"
   ]
  },
  {
   "cell_type": "code",
   "execution_count": 47,
   "metadata": {
    "colab": {
     "base_uri": "https://localhost:8080/",
     "height": 153
    },
    "colab_type": "code",
    "id": "in14Lbvj-fft",
    "outputId": "e20245e9-0ff2-42bd-987b-cbde63118bc3"
   },
   "outputs": [
    {
     "data": {
      "text/plain": [
       "RandomForestClassifier(bootstrap=True, ccp_alpha=0.0, class_weight=None,\n",
       "                       criterion='gini', max_depth=None, max_features='auto',\n",
       "                       max_leaf_nodes=None, max_samples=None,\n",
       "                       min_impurity_decrease=0.0, min_impurity_split=None,\n",
       "                       min_samples_leaf=1, min_samples_split=2,\n",
       "                       min_weight_fraction_leaf=0.0, n_estimators=200,\n",
       "                       n_jobs=None, oob_score=False, random_state=None,\n",
       "                       verbose=0, warm_start=False)"
      ]
     },
     "execution_count": 47,
     "metadata": {
      "tags": []
     },
     "output_type": "execute_result"
    }
   ],
   "source": [
    "rfc.fit(X_train,y_train)"
   ]
  },
  {
   "cell_type": "code",
   "execution_count": 0,
   "metadata": {
    "colab": {},
    "colab_type": "code",
    "id": "4zyx2e6--ffv"
   },
   "outputs": [],
   "source": [
    "rfc_pred = rfc.predict(X_test)"
   ]
  },
  {
   "cell_type": "code",
   "execution_count": 49,
   "metadata": {
    "colab": {
     "base_uri": "https://localhost:8080/",
     "height": 170
    },
    "colab_type": "code",
    "id": "JHd9iXNz-ffx",
    "outputId": "22599ce3-5358-4e56-b070-8feeaac0faf6"
   },
   "outputs": [
    {
     "name": "stdout",
     "output_type": "stream",
     "text": [
      "              precision    recall  f1-score   support\n",
      "\n",
      "           0       0.85      0.96      0.90      7036\n",
      "           1       0.40      0.15      0.21      1428\n",
      "\n",
      "    accuracy                           0.82      8464\n",
      "   macro avg       0.62      0.55      0.56      8464\n",
      "weighted avg       0.77      0.82      0.78      8464\n",
      "\n"
     ]
    }
   ],
   "source": [
    "print(classification_report(y_test,rfc_pred))"
   ]
  },
  {
   "cell_type": "markdown",
   "metadata": {
    "colab_type": "text",
    "id": "Zuig-eqJotaZ"
   },
   "source": [
    "We can interpret the report above as if our model tells us, 100 customers will churn, 40 of it will churn (0.4 precision). And the accuracy of our model is 82%"
   ]
  },
  {
   "cell_type": "markdown",
   "metadata": {
    "colab_type": "text",
    "id": "wXYqQnf6-ffz"
   },
   "source": [
    "#### C. PCA\n",
    "Since there are many feature involoved in this dataset, I want to see which feature is more relevant to the predictions. The PCA would be the algothrim which help us reduced the feature dimensions."
   ]
  },
  {
   "cell_type": "code",
   "execution_count": 0,
   "metadata": {
    "colab": {},
    "colab_type": "code",
    "id": "GNmMiK53-ffz"
   },
   "outputs": [],
   "source": [
    "# scaling the dataset beform performing PCA\n",
    "from sklearn.preprocessing import StandardScaler\n",
    "scaler = StandardScaler()\n",
    "scaler.fit(df_modeling.drop(['churned','SubscriberKey'],axis=1))\n",
    "scaled_df = scaler.transform(df_modeling.drop(['churned','SubscriberKey'],axis=1))"
   ]
  },
  {
   "cell_type": "code",
   "execution_count": 51,
   "metadata": {
    "colab": {
     "base_uri": "https://localhost:8080/",
     "height": 51
    },
    "colab_type": "code",
    "id": "0JNiMJ1c-ff1",
    "outputId": "8545d345-eb77-41a2-f841-6c60e835646c"
   },
   "outputs": [
    {
     "data": {
      "text/plain": [
       "PCA(copy=True, iterated_power='auto', n_components=2, random_state=None,\n",
       "    svd_solver='auto', tol=0.0, whiten=False)"
      ]
     },
     "execution_count": 51,
     "metadata": {
      "tags": []
     },
     "output_type": "execute_result"
    }
   ],
   "source": [
    "# Conducting PCA on Dataset\n",
    "from sklearn.decomposition import PCA\n",
    "pca = PCA(n_components = 2)\n",
    "pca.fit(scaled_df)"
   ]
  },
  {
   "cell_type": "code",
   "execution_count": 0,
   "metadata": {
    "colab": {},
    "colab_type": "code",
    "id": "U_tnRpnz-ff2"
   },
   "outputs": [],
   "source": [
    "x_pca = pca.transform(scaled_df)"
   ]
  },
  {
   "cell_type": "code",
   "execution_count": 53,
   "metadata": {
    "colab": {
     "base_uri": "https://localhost:8080/",
     "height": 34
    },
    "colab_type": "code",
    "id": "lo8sGqmV-ff4",
    "outputId": "05d2b6df-933a-4ff5-8869-c45e226212bb"
   },
   "outputs": [
    {
     "data": {
      "text/plain": [
       "(42316, 16)"
      ]
     },
     "execution_count": 53,
     "metadata": {
      "tags": []
     },
     "output_type": "execute_result"
    }
   ],
   "source": [
    "scaled_df.shape"
   ]
  },
  {
   "cell_type": "code",
   "execution_count": 54,
   "metadata": {
    "colab": {
     "base_uri": "https://localhost:8080/",
     "height": 34
    },
    "colab_type": "code",
    "id": "1WopNpr2-ff7",
    "outputId": "c7c0725c-1893-4be3-d01d-3a6b548464fb"
   },
   "outputs": [
    {
     "data": {
      "text/plain": [
       "(42316, 2)"
      ]
     },
     "execution_count": 54,
     "metadata": {
      "tags": []
     },
     "output_type": "execute_result"
    }
   ],
   "source": [
    "x_pca.shape"
   ]
  },
  {
   "cell_type": "code",
   "execution_count": 55,
   "metadata": {
    "colab": {
     "base_uri": "https://localhost:8080/",
     "height": 405
    },
    "colab_type": "code",
    "id": "RnDvxZK7-ff9",
    "outputId": "3078ab30-99ca-4db0-a409-5e8c79d78a78"
   },
   "outputs": [
    {
     "data": {
      "text/plain": [
       "Text(0, 0.5, 'Second Principal Component')"
      ]
     },
     "execution_count": 55,
     "metadata": {
      "tags": []
     },
     "output_type": "execute_result"
    },
    {
     "data": {
      "image/png": "[encoded data removed]",
      "text/plain": [
       "<Figure size 576x432 with 1 Axes>"
      ]
     },
     "metadata": {
      "tags": []
     },
     "output_type": "display_data"
    }
   ],
   "source": [
    "# plotting the dimension reduction on our dataset\n",
    "plt.figure(figsize = (8,6))\n",
    "plt.scatter(x_pca[:,0],x_pca[:,1], c= df_modeling['churned'],cmap = 'plasma')\n",
    "plt.xlabel('First Principal Component')\n",
    "plt.ylabel('Second Principal Component')"
   ]
  },
  {
   "cell_type": "code",
   "execution_count": 56,
   "metadata": {
    "colab": {
     "base_uri": "https://localhost:8080/",
     "height": 221
    },
    "colab_type": "code",
    "id": "x17yAUVT-ff-",
    "outputId": "460b0ad5-d2b4-45ac-cfdc-4481fd6bcb58"
   },
   "outputs": [
    {
     "data": {
      "text/plain": [
       "array([[-2.57110110e-02, -2.20172183e-02, -4.22863366e-03,\n",
       "        -2.86423909e-02, -4.38257967e-03,  5.23933996e-02,\n",
       "         3.39138879e-01,  6.37362151e-02, -1.69908603e-01,\n",
       "         3.64031406e-01,  3.67344724e-01,  3.44459027e-01,\n",
       "         3.43257176e-01,  3.37947662e-01,  3.20943982e-01,\n",
       "         3.55180295e-01],\n",
       "       [ 5.09781951e-03,  1.45301525e-01,  6.63677037e-01,\n",
       "         3.08078300e-01,  6.62824506e-01,  5.41302040e-02,\n",
       "         7.53325219e-03,  1.45948781e-02,  2.20927664e-02,\n",
       "         1.24930764e-02,  3.23813204e-03,  9.66714484e-03,\n",
       "         2.26607884e-03,  1.36946754e-02,  7.79691595e-05,\n",
       "         2.25238909e-03]])"
      ]
     },
     "execution_count": 56,
     "metadata": {
      "tags": []
     },
     "output_type": "execute_result"
    }
   ],
   "source": [
    "pca.components_"
   ]
  },
  {
   "cell_type": "code",
   "execution_count": 0,
   "metadata": {
    "colab": {},
    "colab_type": "code",
    "id": "caHIRLiL-fgA"
   },
   "outputs": [],
   "source": [
    "df_comp = pd.DataFrame(pca.components_, columns = [['BilledAmount','TenureMonth','NActiveMonths',\n",
    "                           'NContinuousActiveMonths','MaxContinuousActiveMonths','NPrevChurns',\n",
    "                          'PercActiveDay','PercOfflineView','DaysSinceLastLogin','ViewMinPerDay',\n",
    "                          'ViewMinPerActiveDay','ClipsPerDay','ClipsPerActiveDay','NCoursesPerDay',\n",
    "                          'CourseCompletionRate','MaxCourseCompletionRate']])"
   ]
  },
  {
   "cell_type": "code",
   "execution_count": 58,
   "metadata": {
    "colab": {
     "base_uri": "https://localhost:8080/",
     "height": 131
    },
    "colab_type": "code",
    "id": "BapwoAq1-fgC",
    "outputId": "9f762759-936e-4523-faf5-3748895e3d49"
   },
   "outputs": [
    {
     "data": {
      "text/html": [
       "<div>\n",
       "<style scoped>\n",
       "    .dataframe tbody tr th:only-of-type {\n",
       "        vertical-align: middle;\n",
       "    }\n",
       "\n",
       "    .dataframe tbody tr th {\n",
       "        vertical-align: top;\n",
       "    }\n",
       "\n",
       "    .dataframe thead tr th {\n",
       "        text-align: left;\n",
       "    }\n",
       "</style>\n",
       "<table border=\"1\" class=\"dataframe\">\n",
       "  <thead>\n",
       "    <tr>\n",
       "      <th></th>\n",
       "      <th>BilledAmount</th>\n",
       "      <th>TenureMonth</th>\n",
       "      <th>NActiveMonths</th>\n",
       "      <th>NContinuousActiveMonths</th>\n",
       "      <th>MaxContinuousActiveMonths</th>\n",
       "      <th>NPrevChurns</th>\n",
       "      <th>PercActiveDay</th>\n",
       "      <th>PercOfflineView</th>\n",
       "      <th>DaysSinceLastLogin</th>\n",
       "      <th>ViewMinPerDay</th>\n",
       "      <th>ViewMinPerActiveDay</th>\n",
       "      <th>ClipsPerDay</th>\n",
       "      <th>ClipsPerActiveDay</th>\n",
       "      <th>NCoursesPerDay</th>\n",
       "      <th>CourseCompletionRate</th>\n",
       "      <th>MaxCourseCompletionRate</th>\n",
       "    </tr>\n",
       "  </thead>\n",
       "  <tbody>\n",
       "    <tr>\n",
       "      <th>0</th>\n",
       "      <td>-0.025711</td>\n",
       "      <td>-0.022017</td>\n",
       "      <td>-0.004229</td>\n",
       "      <td>-0.028642</td>\n",
       "      <td>-0.004383</td>\n",
       "      <td>0.052393</td>\n",
       "      <td>0.339139</td>\n",
       "      <td>0.063736</td>\n",
       "      <td>-0.169909</td>\n",
       "      <td>0.364031</td>\n",
       "      <td>0.367345</td>\n",
       "      <td>0.344459</td>\n",
       "      <td>0.343257</td>\n",
       "      <td>0.337948</td>\n",
       "      <td>0.320944</td>\n",
       "      <td>0.355180</td>\n",
       "    </tr>\n",
       "    <tr>\n",
       "      <th>1</th>\n",
       "      <td>0.005098</td>\n",
       "      <td>0.145302</td>\n",
       "      <td>0.663677</td>\n",
       "      <td>0.308078</td>\n",
       "      <td>0.662825</td>\n",
       "      <td>0.054130</td>\n",
       "      <td>0.007533</td>\n",
       "      <td>0.014595</td>\n",
       "      <td>0.022093</td>\n",
       "      <td>0.012493</td>\n",
       "      <td>0.003238</td>\n",
       "      <td>0.009667</td>\n",
       "      <td>0.002266</td>\n",
       "      <td>0.013695</td>\n",
       "      <td>0.000078</td>\n",
       "      <td>0.002252</td>\n",
       "    </tr>\n",
       "  </tbody>\n",
       "</table>\n",
       "</div>"
      ],
      "text/plain": [
       "  BilledAmount TenureMonth  ... CourseCompletionRate MaxCourseCompletionRate\n",
       "0    -0.025711   -0.022017  ...             0.320944                0.355180\n",
       "1     0.005098    0.145302  ...             0.000078                0.002252\n",
       "\n",
       "[2 rows x 16 columns]"
      ]
     },
     "execution_count": 58,
     "metadata": {
      "tags": []
     },
     "output_type": "execute_result"
    }
   ],
   "source": [
    "df_comp.head()"
   ]
  },
  {
   "cell_type": "code",
   "execution_count": 59,
   "metadata": {
    "colab": {
     "base_uri": "https://localhost:8080/",
     "height": 540
    },
    "colab_type": "code",
    "id": "LEdraddS-fgD",
    "outputId": "2d331f67-6d82-4f8e-d790-f4ee9829a800"
   },
   "outputs": [
    {
     "data": {
      "text/plain": [
       "<matplotlib.axes._subplots.AxesSubplot at 0x7f69ee2ff278>"
      ]
     },
     "execution_count": 59,
     "metadata": {
      "tags": []
     },
     "output_type": "execute_result"
    },
    {
     "data": {
      "image/png": "[encoded data removed]",
      "text/plain": [
       "<Figure size 864x432 with 2 Axes>"
      ]
     },
     "metadata": {
      "tags": []
     },
     "output_type": "display_data"
    }
   ],
   "source": [
    "# plotting the correlation statistics in different features\n",
    "plt.figure(figsize = (12,6))\n",
    "sns.heatmap(df_comp,cmap='plasma')"
   ]
  },
  {
   "cell_type": "markdown",
   "metadata": {},
   "source": [
    "Based on the graph above, the subscribers with less value in 'TenureMonth','NActiveMonths','NContinuousActiveMonths','MaxContinuousActiveMonths' are more likely not renewing."
   ]
  },
  {
   "cell_type": "markdown",
   "metadata": {
    "colab_type": "text",
    "id": "mrG10I4a-fgG"
   },
   "source": [
    "#### D. binary classification model with XGBoost\n",
    "The binary classification model with XGBoost could help us finding out the probability values for subscriber renewal."
   ]
  },
  {
   "cell_type": "code",
   "execution_count": 0,
   "metadata": {
    "colab": {},
    "colab_type": "code",
    "id": "GkVWYknw-fgK"
   },
   "outputs": [],
   "source": [
    "import xgboost\n",
    "from xgboost import XGBClassifier"
   ]
  },
  {
   "cell_type": "code",
   "execution_count": 61,
   "metadata": {
    "colab": {
     "base_uri": "https://localhost:8080/",
     "height": 51
    },
    "colab_type": "code",
    "id": "mZRjeRbJ-fgM",
    "outputId": "c85bf1b9-7e2c-4508-84e6-545649732d24"
   },
   "outputs": [
    {
     "name": "stdout",
     "output_type": "stream",
     "text": [
      "Accuracy of XGB classifier on training set: 0.84\n",
      "Accuracy of XGB classifier on test set: 0.84\n"
     ]
    }
   ],
   "source": [
    "xgb_model = XGBClassifier(max_depth=5, learning_rate=0.08, objective= 'binary:logistic',n_jobs=-1).fit(X_train, y_train)\n",
    "print('Accuracy of XGB classifier on training set: {:.2f}'\n",
    "       .format(xgb_model.score(X_train, y_train)))\n",
    "print('Accuracy of XGB classifier on test set: {:.2f}'\n",
    "       .format(xgb_model.score(X_test[X_train.columns], y_test)))"
   ]
  },
  {
   "cell_type": "markdown",
   "metadata": {
    "colab_type": "text",
    "id": "O3xUxawW_oRU"
   },
   "source": [
    "By using this simple model, we have achieve 84% accuracy"
   ]
  },
  {
   "cell_type": "code",
   "execution_count": 62,
   "metadata": {
    "colab": {
     "base_uri": "https://localhost:8080/",
     "height": 170
    },
    "colab_type": "code",
    "id": "CdsU2eTq_zYC",
    "outputId": "19e0168c-b0d1-4675-84f2-192a0ec1be14"
   },
   "outputs": [
    {
     "name": "stdout",
     "output_type": "stream",
     "text": [
      "              precision    recall  f1-score   support\n",
      "\n",
      "           0       0.84      0.98      0.91      7036\n",
      "           1       0.58      0.11      0.18      1428\n",
      "\n",
      "    accuracy                           0.84      8464\n",
      "   macro avg       0.71      0.55      0.55      8464\n",
      "weighted avg       0.80      0.84      0.79      8464\n",
      "\n"
     ]
    }
   ],
   "source": [
    "y_pred = xgb_model.predict(X_test)\n",
    "print(classification_report(y_test, y_pred))"
   ]
  },
  {
   "cell_type": "markdown",
   "metadata": {
    "colab_type": "text",
    "id": "r6AZ4SyIAHVS"
   },
   "source": [
    "We can interpret the report above as if our model tells us, 100 customers will churn, 58 of it will churn (0.58 precision). And actually, there are around 909 customers who will churn (0.11 recall). Especially recall is the main problem here, and we can improve our model’s overall performance by:\n",
    "Adding more data\n",
    "Adding more features\n",
    "More feature engineering\n",
    "Trying other models\n",
    "Hyper-parameter tuning"
   ]
  },
  {
   "cell_type": "markdown",
   "metadata": {
    "colab_type": "text",
    "id": "pVEFXEG1AmPn"
   },
   "source": [
    "Moving forward, let’s see how our model works in detail. First off, we want to know which features our model exactly used from the dataset. Also, which were the most important ones?\n",
    "For addressing this question, we can use the code below:"
   ]
  },
  {
   "cell_type": "code",
   "execution_count": 63,
   "metadata": {
    "colab": {
     "base_uri": "https://localhost:8080/",
     "height": 530
    },
    "colab_type": "code",
    "id": "xcQYjrnhAnvd",
    "outputId": "c63f07a2-2725-46ef-b1e8-f55337a05374"
   },
   "outputs": [
    {
     "data": {
      "text/plain": [
       "<matplotlib.axes._subplots.AxesSubplot at 0x7f69ee18f160>"
      ]
     },
     "execution_count": 63,
     "metadata": {
      "tags": []
     },
     "output_type": "execute_result"
    },
    {
     "data": {
      "image/png": "[encoded data removed]",
      "text/plain": [
       "<Figure size 720x576 with 1 Axes>"
      ]
     },
     "metadata": {
      "tags": []
     },
     "output_type": "display_data"
    }
   ],
   "source": [
    "from xgboost import plot_importance\n",
    "fig, ax = plt.subplots(figsize=(10,8))\n",
    "plot_importance(xgb_model, ax=ax)"
   ]
  },
  {
   "cell_type": "markdown",
   "metadata": {
    "colab_type": "text",
    "id": "ce-T8_NsAvZT"
   },
   "source": [
    "We can see that our model assigned more importance to DaysSinceLastLogin and ViewMinPerActiveDay compared to others."
   ]
  },
  {
   "cell_type": "markdown",
   "metadata": {
    "colab_type": "text",
    "id": "DsTTHogBA6BG"
   },
   "source": [
    "Finally, the best way to use this model is assigning Churn Probability for each customer, create segments, and build strategies on top of that. To get the churn probability from our model, utilize the code block below:"
   ]
  },
  {
   "cell_type": "code",
   "execution_count": 64,
   "metadata": {
    "colab": {
     "base_uri": "https://localhost:8080/",
     "height": 119
    },
    "colab_type": "code",
    "id": "mgnL2KnjA72d",
    "outputId": "9042c9d8-229b-41f8-bac2-29a02e946e2b"
   },
   "outputs": [
    {
     "name": "stderr",
     "output_type": "stream",
     "text": [
      "/usr/local/lib/python3.6/dist-packages/ipykernel_launcher.py:1: SettingWithCopyWarning: \n",
      "A value is trying to be set on a copy of a slice from a DataFrame.\n",
      "Try using .loc[row_indexer,col_indexer] = value instead\n",
      "\n",
      "See the caveats in the documentation: http://pandas.pydata.org/pandas-docs/stable/user_guide/indexing.html#returning-a-view-versus-a-copy\n",
      "  \"\"\"Entry point for launching an IPython kernel.\n"
     ]
    }
   ],
   "source": [
    "df_modeling['proba'] = xgb_model.predict_proba(df_modeling[X_train.columns])[:,1]"
   ]
  },
  {
   "cell_type": "code",
   "execution_count": 65,
   "metadata": {
    "colab": {
     "base_uri": "https://localhost:8080/",
     "height": 419
    },
    "colab_type": "code",
    "id": "_q-YBi5zBIGR",
    "outputId": "d10c4132-1553-4c64-8de8-6f5cd18af571"
   },
   "outputs": [
    {
     "data": {
      "text/html": [
       "<div>\n",
       "<style scoped>\n",
       "    .dataframe tbody tr th:only-of-type {\n",
       "        vertical-align: middle;\n",
       "    }\n",
       "\n",
       "    .dataframe tbody tr th {\n",
       "        vertical-align: top;\n",
       "    }\n",
       "\n",
       "    .dataframe thead th {\n",
       "        text-align: right;\n",
       "    }\n",
       "</style>\n",
       "<table border=\"1\" class=\"dataframe\">\n",
       "  <thead>\n",
       "    <tr style=\"text-align: right;\">\n",
       "      <th></th>\n",
       "      <th>SubscriberKey</th>\n",
       "      <th>proba</th>\n",
       "    </tr>\n",
       "  </thead>\n",
       "  <tbody>\n",
       "    <tr>\n",
       "      <th>0</th>\n",
       "      <td>5</td>\n",
       "      <td>0.036175</td>\n",
       "    </tr>\n",
       "    <tr>\n",
       "      <th>1</th>\n",
       "      <td>13</td>\n",
       "      <td>0.142065</td>\n",
       "    </tr>\n",
       "    <tr>\n",
       "      <th>2</th>\n",
       "      <td>28</td>\n",
       "      <td>0.114382</td>\n",
       "    </tr>\n",
       "    <tr>\n",
       "      <th>3</th>\n",
       "      <td>51</td>\n",
       "      <td>0.109296</td>\n",
       "    </tr>\n",
       "    <tr>\n",
       "      <th>4</th>\n",
       "      <td>56</td>\n",
       "      <td>0.050251</td>\n",
       "    </tr>\n",
       "    <tr>\n",
       "      <th>...</th>\n",
       "      <td>...</td>\n",
       "      <td>...</td>\n",
       "    </tr>\n",
       "    <tr>\n",
       "      <th>43137</th>\n",
       "      <td>500534</td>\n",
       "      <td>0.292621</td>\n",
       "    </tr>\n",
       "    <tr>\n",
       "      <th>43138</th>\n",
       "      <td>500541</td>\n",
       "      <td>0.345520</td>\n",
       "    </tr>\n",
       "    <tr>\n",
       "      <th>43139</th>\n",
       "      <td>500546</td>\n",
       "      <td>0.339840</td>\n",
       "    </tr>\n",
       "    <tr>\n",
       "      <th>43140</th>\n",
       "      <td>500547</td>\n",
       "      <td>0.345520</td>\n",
       "    </tr>\n",
       "    <tr>\n",
       "      <th>43141</th>\n",
       "      <td>500558</td>\n",
       "      <td>0.343555</td>\n",
       "    </tr>\n",
       "  </tbody>\n",
       "</table>\n",
       "<p>42316 rows × 2 columns</p>\n",
       "</div>"
      ],
      "text/plain": [
       "       SubscriberKey     proba\n",
       "0                  5  0.036175\n",
       "1                 13  0.142065\n",
       "2                 28  0.114382\n",
       "3                 51  0.109296\n",
       "4                 56  0.050251\n",
       "...              ...       ...\n",
       "43137         500534  0.292621\n",
       "43138         500541  0.345520\n",
       "43139         500546  0.339840\n",
       "43140         500547  0.345520\n",
       "43141         500558  0.343555\n",
       "\n",
       "[42316 rows x 2 columns]"
      ]
     },
     "execution_count": 65,
     "metadata": {
      "tags": []
     },
     "output_type": "execute_result"
    }
   ],
   "source": [
    "df_modeling[['SubscriberKey','proba']]"
   ]
  },
  {
   "cell_type": "markdown",
   "metadata": {
    "colab_type": "text",
    "id": "DCj7-K2iFS3x"
   },
   "source": [
    "Calculate the average probability for each user"
   ]
  },
  {
   "cell_type": "code",
   "execution_count": 67,
   "metadata": {
    "colab": {
     "base_uri": "https://localhost:8080/",
     "height": 450
    },
    "colab_type": "code",
    "id": "aI6oEFynFR-t",
    "outputId": "35cca326-bf3b-4178-e629-2bfe368f1f5b"
   },
   "outputs": [
    {
     "data": {
      "text/html": [
       "<div>\n",
       "<style scoped>\n",
       "    .dataframe tbody tr th:only-of-type {\n",
       "        vertical-align: middle;\n",
       "    }\n",
       "\n",
       "    .dataframe tbody tr th {\n",
       "        vertical-align: top;\n",
       "    }\n",
       "\n",
       "    .dataframe thead th {\n",
       "        text-align: right;\n",
       "    }\n",
       "</style>\n",
       "<table border=\"1\" class=\"dataframe\">\n",
       "  <thead>\n",
       "    <tr style=\"text-align: right;\">\n",
       "      <th></th>\n",
       "      <th>proba</th>\n",
       "    </tr>\n",
       "    <tr>\n",
       "      <th>SubscriberKey</th>\n",
       "      <th></th>\n",
       "    </tr>\n",
       "  </thead>\n",
       "  <tbody>\n",
       "    <tr>\n",
       "      <th>5</th>\n",
       "      <td>0.036175</td>\n",
       "    </tr>\n",
       "    <tr>\n",
       "      <th>13</th>\n",
       "      <td>0.142065</td>\n",
       "    </tr>\n",
       "    <tr>\n",
       "      <th>28</th>\n",
       "      <td>0.114382</td>\n",
       "    </tr>\n",
       "    <tr>\n",
       "      <th>51</th>\n",
       "      <td>0.109296</td>\n",
       "    </tr>\n",
       "    <tr>\n",
       "      <th>56</th>\n",
       "      <td>0.050251</td>\n",
       "    </tr>\n",
       "    <tr>\n",
       "      <th>...</th>\n",
       "      <td>...</td>\n",
       "    </tr>\n",
       "    <tr>\n",
       "      <th>500534</th>\n",
       "      <td>0.292621</td>\n",
       "    </tr>\n",
       "    <tr>\n",
       "      <th>500541</th>\n",
       "      <td>0.345520</td>\n",
       "    </tr>\n",
       "    <tr>\n",
       "      <th>500546</th>\n",
       "      <td>0.339840</td>\n",
       "    </tr>\n",
       "    <tr>\n",
       "      <th>500547</th>\n",
       "      <td>0.345520</td>\n",
       "    </tr>\n",
       "    <tr>\n",
       "      <th>500558</th>\n",
       "      <td>0.343555</td>\n",
       "    </tr>\n",
       "  </tbody>\n",
       "</table>\n",
       "<p>41136 rows × 1 columns</p>\n",
       "</div>"
      ],
      "text/plain": [
       "                  proba\n",
       "SubscriberKey          \n",
       "5              0.036175\n",
       "13             0.142065\n",
       "28             0.114382\n",
       "51             0.109296\n",
       "56             0.050251\n",
       "...                 ...\n",
       "500534         0.292621\n",
       "500541         0.345520\n",
       "500546         0.339840\n",
       "500547         0.345520\n",
       "500558         0.343555\n",
       "\n",
       "[41136 rows x 1 columns]"
      ]
     },
     "execution_count": 67,
     "metadata": {
      "tags": []
     },
     "output_type": "execute_result"
    }
   ],
   "source": [
    "df_modeling[['SubscriberKey','proba']].groupby(['SubscriberKey']).mean()"
   ]
  },
  {
   "cell_type": "markdown",
   "metadata": {
    "colab_type": "text",
    "id": "03yc4AlI-fgO"
   },
   "source": [
    "## <a class=\"anchor\" id=\"conclusions\">Part IV :Question & Concluding</a>"
   ]
  },
  {
   "cell_type": "markdown",
   "metadata": {
    "colab_type": "text",
    "id": "vQMLOzzf-fgO"
   },
   "source": [
    "### 1.If you had the opportunity to build this dataset yourself, what types of things would you have been sure to consider?\n",
    "\n",
    "#### Answer:\n",
    "First thing that I would consider is having a Complete dataset with No missing values before I am doing further analysis on the dataset\n",
    "The further features which I would prefer is Promotion date/Discount, which could have more influence on the customer purchasing"
   ]
  },
  {
   "cell_type": "markdown",
   "metadata": {
    "colab_type": "text",
    "id": "VzWjff6F-fgP"
   },
   "source": [
    "### 2.Before you begin the analysis, what types of things would you expect to influence the likelihood of whether or not a subscriber renews?\n",
    "\n",
    "#### Answer:\n",
    "Based on my experience with online learning platform, the content course change, relevant improvement, online course quality, course reviews and Website Updates will influence the possibility of subscriber renewal. Usually I will read the course review before I actually start using the learning platform, because I can have a brief understanding of course quality. "
   ]
  },
  {
   "cell_type": "markdown",
   "metadata": {
    "colab_type": "text",
    "id": "5EDgKE2y-fgP"
   },
   "source": [
    "### 3.After exploring the dataset, what data cleansing did you do? And, what do you notice that might influence how you approach the analysis and modeling?\n",
    "\n",
    "#### Answer:\n",
    "As I show in the data cleaning part, I remove the companys and channel part since there a lot of missing value in these columns and they are not relevant to the churn activities.\n",
    "However, removing missing values and possible outliers might still have influence on modeling."
   ]
  },
  {
   "cell_type": "markdown",
   "metadata": {
    "colab_type": "text",
    "id": "49Z_a1Ri-fgQ"
   },
   "source": [
    "### 4.Build a model to predict churn and score subscribers that are coming up for renewal. Tell us how you expect your model to perform in practice.\n",
    "\n",
    "#### Answer:\n",
    "As it shown in modeling part above, I used the logistic regression, random forest classifer to predict churn and used the binary classification model with XGBoost to score their probability of subscribers renewal. The detail discussion is included in data modeling part. In the practice, there will be more dataset and feature, therefore I suggest perform PCA for feature reduction first, to see which feature are more relevant to the result prediction. The following suggestion is to perform random forest classifer and binary classification to compart the accurancy."
   ]
  },
  {
   "cell_type": "markdown",
   "metadata": {
    "colab_type": "text",
    "id": "0w5G38UH-fgQ"
   },
   "source": [
    "### 5.Describe how your model works, assuming that the audience is a non-technical marketing manager.\n",
    "\n",
    "#### Answer:\n",
    "In this project, I used the PCA algorithm to help me definded which feature in the dataset in most related with churn predictions. And then, I applied serval other different classfication algorithm, such as logistic regression, random forest Classifier to predict whether the subscriber will continue their service. And finally, I am using the binary classification in the xgboost library helping me doing a further prediction and churn probablilty calculations."
   ]
  },
  {
   "cell_type": "markdown",
   "metadata": {
    "colab_type": "text",
    "id": "HYHYKLFV-fgR"
   },
   "source": [
    "### 6.What did you learn from your analysis and modeling about the characteristics of the subscribers most at risk of not renewing?\n",
    "\n",
    "#### Answer:\n",
    "Based on the PCA analysis, which is showing in the heatmap, the subscribers with less value in 'TenureMonth','NActiveMonths','NContinuousActiveMonths','MaxContinuousActiveMonths' are more likely not renewing "
   ]
  },
  {
   "cell_type": "markdown",
   "metadata": {
    "colab_type": "text",
    "id": "KiEw8vo8-fgR"
   },
   "source": [
    "### 7.What recommendations would you make for the use of your model?\n",
    "\n",
    "#### Answer : \n",
    "The logistic regression and random forest classifer are the model that I used to predict whether subscribers will continue or renew on their service\n",
    "The binary classification model with XGBoost is model in this project to  predict the probability of subscribers to continue their service.\n",
    "I will recommendation using logistic regression or random forest classifer to classify whether the user will continue the service and using binary classification model to calculate the probability."
   ]
  }
 ],
 "metadata": {
  "colab": {
   "name": "Pluralsight Project.ipynb",
   "provenance": []
  },
  "kernelspec": {
   "display_name": "Python 3",
   "language": "python",
   "name": "python3"
  },
  "language_info": {
   "codemirror_mode": {
    "name": "ipython",
    "version": 3
   },
   "file_extension": ".py",
   "mimetype": "text/x-python",
   "name": "python",
   "nbconvert_exporter": "python",
   "pygments_lexer": "ipython3",
   "version": "3.7.3"
  }
 },
 "nbformat": 4,
 "nbformat_minor": 1
}
